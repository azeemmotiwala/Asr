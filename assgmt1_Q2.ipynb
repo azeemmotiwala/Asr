{
 "cells": [
  {
   "cell_type": "markdown",
   "metadata": {
    "id": "p3S0Etz_Nokz"
   },
   "source": [
    "# PART I: Running a SpeechBrain ASR Recipe"
   ]
  },
  {
   "cell_type": "markdown",
   "metadata": {
    "id": "h-xktzpeEBjf"
   },
   "source": [
    "## You have to fill in appropriate code in 4 locations in the notebook.\n",
    "\n",
    "* The four locations start with \"####TASK\". Read the task specifications mentioned there.\n",
    "* The required function names are already available in this notebook somewhere. You're only required to find and use the appropriate ones.\n",
    "* Check the SpeechBrain documentation to find out how to use those functions. Refer to the starting material for more resources.\n",
    "* By the end of this part of the assignment, you should be comfortable running a Speechbrain recipe.\n",
    "* **P.S.** Note that none of the four tasks require you to write more than 1 line of code."
   ]
  },
  {
   "cell_type": "markdown",
   "metadata": {
    "id": "bKXIYTJSOnt_"
   },
   "source": [
    "### Setting up the codebase."
   ]
  },
  {
   "cell_type": "code",
   "execution_count": 1,
   "metadata": {
    "id": "A5H2lpHX7npZ"
   },
   "outputs": [],
   "source": [
    "%%capture\n",
    "\n",
    "# Clone SpeechBrain repository\n",
    "!git clone https://github.com/Darshan7575/speechbrain.git\n",
    "%cd /content/speechbrain/\n",
    "\n",
    "# Install required dependencies\n",
    "!pip install -r requirements.txt\n",
    "\n",
    "# Install SpeechBrain in editable mode\n",
    "!pip install -e ."
   ]
  },
  {
   "cell_type": "code",
   "execution_count": 2,
   "metadata": {
    "id": "61C_gxJo5aRH"
   },
   "outputs": [],
   "source": [
    "# @title\n",
    "# Required imports\n",
    "import os\n",
    "import json\n",
    "import shutil\n",
    "import logging\n",
    "import sys\n",
    "import torch\n",
    "from pathlib import Path\n",
    "import speechbrain as sb\n",
    "from hyperpyyaml import load_hyperpyyaml\n",
    "from speechbrain.utils.data_utils import get_all_files, download_file\n",
    "from speechbrain.dataio.dataio import read_audio\n",
    "from speechbrain.utils.distributed import run_on_main, if_main_process\n",
    "\n",
    "# Required variables and loggers\n",
    "logger = logging.getLogger(__name__)\n",
    "logger = logging.getLogger(__name__)\n",
    "MINILIBRI_TRAIN_URL = \"http://www.openslr.org/resources/31/train-clean-5.tar.gz\"\n",
    "MINILIBRI_VALID_URL = \"http://www.openslr.org/resources/31/dev-clean-2.tar.gz\"\n",
    "MINILIBRI_TEST_URL = \"https://www.openslr.org/resources/12/test-clean.tar.gz\"\n",
    "SAMPLERATE = 16000\n",
    "\n",
    "device=\"cuda\"\n",
    "run_opts = {'device':device}"
   ]
  },
  {
   "cell_type": "markdown",
   "metadata": {
    "id": "rtdr1VnyCQTJ"
   },
   "source": [
    "### Tokenizer Training\n",
    "In this section, we will train a BPE tokenizer with **150 tokens** using `Sentencepiece`.\n",
    "\n"
   ]
  },
  {
   "cell_type": "code",
   "execution_count": 3,
   "metadata": {
    "id": "ujToJHWC4T5y"
   },
   "outputs": [],
   "source": [
    "# ############################################################################\n",
    "# Dataset creation helper functions\n",
    "# ############################################################################\n",
    "\n",
    "def prepare_mini_librispeech(\n",
    "    data_folder, save_json_train, save_json_valid, save_json_test\n",
    "):\n",
    "    \"\"\"\n",
    "    Prepares the json files for the Mini Librispeech dataset.\n",
    "    Downloads the dataset if its not found in the `data_folder`.\n",
    "    \"\"\"\n",
    "\n",
    "    # Check if this phase is already done (if so, skip it)\n",
    "    if skip(save_json_train, save_json_valid, save_json_test):\n",
    "        logger.info(\"Preparation completed in previous run, skipping.\")\n",
    "        return\n",
    "\n",
    "    # If the dataset doesn't exist yet, download it\n",
    "    train_folder = os.path.join(data_folder, \"LibriSpeech\", \"train-clean-5\")\n",
    "    valid_folder = os.path.join(data_folder, \"LibriSpeech\", \"dev-clean-2\")\n",
    "    test_folder = os.path.join(data_folder, \"LibriSpeech\", \"test-clean\")\n",
    "    if not check_folders(train_folder, valid_folder, test_folder):\n",
    "        download_mini_librispeech(data_folder)\n",
    "\n",
    "    # List files and create manifest from list\n",
    "    logger.info(\n",
    "        f\"Creating {save_json_train}, {save_json_valid}, and {save_json_test}\"\n",
    "    )\n",
    "    extension = [\".flac\"]\n",
    "\n",
    "    # List of flac audio files\n",
    "    wav_list_train = get_all_files(train_folder, match_and=extension)\n",
    "    wav_list_valid = get_all_files(valid_folder, match_and=extension)\n",
    "    wav_list_test = get_all_files(test_folder, match_and=extension)\n",
    "\n",
    "    # List of transcription file\n",
    "    extension = [\".trans.txt\"]\n",
    "    trans_list = get_all_files(data_folder, match_and=extension)\n",
    "    trans_dict = get_transcription(trans_list)\n",
    "\n",
    "    # Create the json files\n",
    "    create_json(wav_list_train, trans_dict, save_json_train)\n",
    "    create_json(wav_list_valid, trans_dict, save_json_valid)\n",
    "    create_json(wav_list_test, trans_dict, save_json_test)\n",
    "\n",
    "\n",
    "def get_transcription(trans_list):\n",
    "    \"\"\"\n",
    "    Returns a dictionary with the transcription of each sentence in the dataset.\n",
    "    \"\"\"\n",
    "    # Processing all the transcription files in the list\n",
    "    trans_dict = {}\n",
    "    for trans_file in trans_list:\n",
    "        # Reading the text file\n",
    "        with open(trans_file) as f:\n",
    "            for line in f:\n",
    "                uttid = line.split(\" \")[0]\n",
    "                text = line.rstrip().split(\" \")[1:]\n",
    "                text = \" \".join(text)\n",
    "                trans_dict[uttid] = text\n",
    "\n",
    "    logger.info(\"Transcription files read!\")\n",
    "    return trans_dict\n",
    "\n",
    "\n",
    "def create_json(wav_list, trans_dict, json_file):\n",
    "    \"\"\"\n",
    "    Creates the json file given a list of wav files and their transcriptions.\n",
    "    \"\"\"\n",
    "    # Processing all the wav files in the list\n",
    "    json_dict = {}\n",
    "    for wav_file in wav_list:\n",
    "\n",
    "        # Reading the signal (to retrieve duration in seconds)\n",
    "        signal = read_audio(wav_file)\n",
    "        duration = signal.shape[0] / SAMPLERATE\n",
    "\n",
    "        # Manipulate path to get relative path and uttid\n",
    "        path_parts = wav_file.split(os.path.sep)\n",
    "        uttid, _ = os.path.splitext(path_parts[-1])\n",
    "        relative_path = os.path.join(\"{data_root}\", *path_parts[-5:])\n",
    "\n",
    "        # Create entry for this utterance\n",
    "        json_dict[uttid] = {\n",
    "            \"wav\": relative_path,\n",
    "            \"length\": duration,\n",
    "            \"words\": trans_dict[uttid],\n",
    "        }\n",
    "\n",
    "    # Writing the dictionary to the json file\n",
    "    with open(json_file, mode=\"w\") as json_f:\n",
    "        json.dump(json_dict, json_f, indent=2)\n",
    "\n",
    "    logger.info(f\"{json_file} successfully created!\")\n",
    "\n",
    "\n",
    "def skip(*filenames):\n",
    "    \"\"\"\n",
    "    Detects if the data preparation has been already done.\n",
    "    If the preparation has been done, we can skip it.\n",
    "    \"\"\"\n",
    "    for filename in filenames:\n",
    "        if not os.path.isfile(filename):\n",
    "            return False\n",
    "    return True\n",
    "\n",
    "\n",
    "def check_folders(*folders):\n",
    "    \"\"\"Returns False if any passed folder does not exist.\"\"\"\n",
    "    for folder in folders:\n",
    "        if not os.path.exists(folder):\n",
    "            return False\n",
    "    return True\n",
    "\n",
    "\n",
    "def download_mini_librispeech(destination):\n",
    "    \"\"\"Download dataset and unpack it.\n",
    "    \"\"\"\n",
    "    train_archive = os.path.join(destination, \"train-clean-5.tar.gz\")\n",
    "    valid_archive = os.path.join(destination, \"dev-clean-2.tar.gz\")\n",
    "    test_archive = os.path.join(destination, \"test-clean.tar.gz\")\n",
    "    download_file(MINILIBRI_TRAIN_URL, train_archive)\n",
    "    download_file(MINILIBRI_VALID_URL, valid_archive)\n",
    "    download_file(MINILIBRI_TEST_URL, test_archive)\n",
    "    shutil.unpack_archive(train_archive, destination)\n",
    "    shutil.unpack_archive(valid_archive, destination)\n",
    "    shutil.unpack_archive(test_archive, destination)"
   ]
  },
  {
   "cell_type": "code",
   "execution_count": 4,
   "metadata": {
    "id": "rz9pyHan4V0S"
   },
   "outputs": [],
   "source": [
    "tokenizer_hyperparams = \"\"\"\n",
    "# ############################################################################\n",
    "# Tokenizer: subword BPE with unigram 150\n",
    "# ############################################################################\n",
    "\n",
    "output_folder: !ref results/tokenizer/\n",
    "\n",
    "# Data files\n",
    "data_folder: data\n",
    "train_annotation: !ref <data_folder>/train.json\n",
    "valid_annotation: !ref <data_folder>/valid.json\n",
    "test_annotation: !ref <data_folder>/test.json\n",
    "\n",
    "# Tokenizer training parameters\n",
    "token_type: unigram  # [\"unigram\", \"bpe\", \"char\"]\n",
    "token_output: 150  # index(blank/eos/bos/unk) = 0\n",
    "character_coverage: 1.0\n",
    "json_read: words\n",
    "\n",
    "tokenizer: !name:speechbrain.tokenizers.SentencePiece.SentencePiece\n",
    "   model_dir: !ref <output_folder>\n",
    "   vocab_size: !ref <token_output>\n",
    "   annotation_train: !ref <train_annotation>\n",
    "   annotation_read: !ref <json_read>\n",
    "   annotation_format: json\n",
    "   model_type: !ref <token_type> # [\"unigram\", \"bpe\", \"char\"]\n",
    "   character_coverage: !ref <character_coverage>\n",
    "   annotation_list_to_check: [!ref <train_annotation>, !ref <valid_annotation>]\n",
    "\n",
    "\"\"\""
   ]
  },
  {
   "cell_type": "code",
   "execution_count": 5,
   "metadata": {
    "colab": {
     "base_uri": "https://localhost:8080/",
     "height": 313
    },
    "id": "nA8xD6Do4Xl7",
    "outputId": "f4665823-c143-4ab1-e966-67b6dacd6553"
   },
   "outputs": [
    {
     "name": "stdout",
     "output_type": "stream",
     "text": [
      "speechbrain.core - Beginning experiment!\n",
      "speechbrain.core - Experiment folder: results/tokenizer/\n",
      "__main__ - Preparation completed in previous run, skipping.\n",
      "speechbrain.tokenizers.SentencePiece - Tokenizer is already trained.\n",
      "speechbrain.tokenizers.SentencePiece - ==== Loading Tokenizer ===\n",
      "speechbrain.tokenizers.SentencePiece - Tokenizer path: results/tokenizer/150_unigram.model\n",
      "speechbrain.tokenizers.SentencePiece - Tokenizer vocab_size: 150\n",
      "speechbrain.tokenizers.SentencePiece - Tokenizer type: unigram\n",
      "speechbrain.tokenizers.SentencePiece - ==== Accuracy checking for recovering text from tokenizer ===\n",
      "speechbrain.tokenizers.SentencePiece - recover words from: data/train.json\n",
      "speechbrain.tokenizers.SentencePiece - Wrong recover words: 0\n",
      "speechbrain.tokenizers.SentencePiece - accuracy recovering words: 1.0\n",
      "speechbrain.tokenizers.SentencePiece - ==== Accuracy checking for recovering text from tokenizer ===\n",
      "speechbrain.tokenizers.SentencePiece - recover words from: data/valid.json\n",
      "speechbrain.tokenizers.SentencePiece - Wrong recover words: 0\n",
      "speechbrain.tokenizers.SentencePiece - accuracy recovering words: 1.0\n"
     ]
    },
    {
     "data": {
      "application/vnd.google.colaboratory.intrinsic+json": {
       "type": "string"
      },
      "text/plain": [
       "'results/tokenizer//tokenizer.ckpt'"
      ]
     },
     "execution_count": 5,
     "metadata": {},
     "output_type": "execute_result"
    }
   ],
   "source": [
    "# load required params from the hyperpyyaml file\n",
    "hparams = load_hyperpyyaml(tokenizer_hyperparams)\n",
    "\n",
    "# 1. Dataset creation\n",
    "\n",
    "## Create experiment directory\n",
    "sb.create_experiment_directory(\n",
    "    experiment_directory=hparams[\"output_folder\"],\n",
    "    overrides=None,\n",
    ")\n",
    "\n",
    "## Create dataset\n",
    "run_on_main(\n",
    "    prepare_mini_librispeech,\n",
    "    kwargs={\n",
    "        \"data_folder\": hparams[\"data_folder\"],\n",
    "        \"save_json_train\": hparams[\"train_annotation\"],\n",
    "        \"save_json_valid\": hparams[\"valid_annotation\"],\n",
    "        \"save_json_test\": hparams[\"test_annotation\"],\n",
    "    },\n",
    ")\n",
    "\n",
    "# 2. Tokenizer training\n",
    "hparams[\"tokenizer\"]()\n",
    "\n",
    "# 3. Saving tokenizer in .ckpt extension\n",
    "output_path = hparams[\"output_folder\"]\n",
    "token_output = hparams[\"token_output\"]\n",
    "token_type = hparams[\"token_type\"]\n",
    "bpe_model = f\"{output_path}/{token_output}_{token_type}.model\"\n",
    "tokenizer_ckpt = f\"{output_path}/tokenizer.ckpt\"\n",
    "shutil.copyfile(bpe_model, tokenizer_ckpt)"
   ]
  },
  {
   "cell_type": "markdown",
   "metadata": {
    "id": "vwqFx3QcOdd3"
   },
   "source": [
    "### Model Training\n",
    "In this section, we will train a **6 layer Conformer** encoder only architecture with the `CTC objective`."
   ]
  },
  {
   "cell_type": "code",
   "execution_count": 6,
   "metadata": {
    "id": "6WPcwXueCRm7"
   },
   "outputs": [],
   "source": [
    "global_hyperparams = \"\"\"\n",
    "# Seed needs to be set at top of yaml, before objects with parameters are made\n",
    "seed: 2024\n",
    "__set_seed: !apply:torch.manual_seed [!ref <seed>]\n",
    "\n",
    "# Data files\n",
    "data_folder: data\n",
    "\n",
    "####TASK ADD APPROPRIATE REFERENCES TO LOAD THE FILES ##############\n",
    "\n",
    "train_annotation: ./data/train.json\n",
    "valid_annotation: ./data/valid.json\n",
    "test_annotation: ./data/test.json\n",
    "#####################################################################\n",
    "\n",
    "# Language model (LM) pretraining\n",
    "pretrained_lm_tokenizer_path: ./results/tokenizer\n",
    "\n",
    "# Training parameters\n",
    "number_of_epochs: 30\n",
    "batch_size: 8\n",
    "lr_adam: 0.001\n",
    "max_grad_norm: 5.0\n",
    "ckpt_interval_minutes: 15 # save checkpoint every N min\n",
    "loss_reduction: 'batchmean'\n",
    "\n",
    "# Dataloader options\n",
    "train_dataloader_opts:\n",
    "    batch_size: !ref <batch_size>\n",
    "\n",
    "valid_dataloader_opts:\n",
    "    batch_size: !ref <batch_size>\n",
    "\n",
    "test_dataloader_opts:\n",
    "    batch_size: !ref <batch_size>\n",
    "\n",
    "# Feature parameters\n",
    "sample_rate: 16000\n",
    "n_fft: 400\n",
    "n_mels: 80\n",
    "\n",
    "####################### Model parameters ###########################\n",
    "# Transformer\n",
    "d_model: 64\n",
    "nhead: 4\n",
    "num_encoder_layers: 6\n",
    "d_ffn: 256\n",
    "transformer_dropout: 0.1\n",
    "activation: !name:torch.nn.GELU\n",
    "output_neurons: 150\n",
    "label_smoothing: 0.0\n",
    "attention_type: RelPosMHAXL\n",
    "\n",
    "# Outputs\n",
    "blank_index: 0\n",
    "pad_index: 0\n",
    "bos_index: 1\n",
    "eos_index: 2\n",
    "\n",
    "# Decoding parameters\n",
    "min_decode_ratio: 0.0\n",
    "max_decode_ratio: 1.0\n",
    "test_beam_size: 1\n",
    "ctc_weight_decode: 1.0\n",
    "\n",
    "############################## models ################################\n",
    "\n",
    "compute_features: !new:speechbrain.lobes.features.Fbank\n",
    "    sample_rate: !ref <sample_rate>\n",
    "    n_fft: !ref <n_fft>\n",
    "    n_mels: !ref <n_mels>\n",
    "\n",
    "CNN: !new:speechbrain.lobes.models.convolution.ConvolutionFrontEnd\n",
    "    input_shape: (8, 10, 80)\n",
    "    num_blocks: 2\n",
    "    num_layers_per_block: 1\n",
    "    out_channels: (64, 32)\n",
    "    kernel_sizes: (3, 3)\n",
    "    strides: (2, 2)\n",
    "    residuals: (False, False)\n",
    "\n",
    "# standard parameters for the BASE model\n",
    "Transformer: !new:speechbrain.lobes.models.transformer.TransformerASR.TransformerASR\n",
    "    input_size: 640\n",
    "    tgt_vocab: !ref <output_neurons>\n",
    "    d_model: !ref <d_model>\n",
    "    nhead: !ref <nhead>\n",
    "    num_encoder_layers: !ref <num_encoder_layers>\n",
    "    num_decoder_layers: 0\n",
    "    d_ffn: !ref <d_ffn>\n",
    "    dropout: !ref <transformer_dropout>\n",
    "    activation: !ref <activation>\n",
    "    encoder_module: conformer\n",
    "    attention_type: !ref <attention_type>\n",
    "    normalize_before: True\n",
    "\n",
    "tokenizer: !new:sentencepiece.SentencePieceProcessor\n",
    "\n",
    "ctc_lin: !new:speechbrain.nnet.linear.Linear\n",
    "    input_size: !ref <d_model>\n",
    "    n_neurons: !ref <output_neurons>\n",
    "\n",
    "normalize: !new:speechbrain.processing.features.InputNormalization\n",
    "    norm_type: global\n",
    "    update_until_epoch: 4\n",
    "\n",
    "modules:\n",
    "    CNN: !ref <CNN>\n",
    "    Transformer: !ref <Transformer>\n",
    "    ctc_lin: !ref <ctc_lin>\n",
    "    normalize: !ref <normalize>\n",
    "\n",
    "model: !new:torch.nn.ModuleList\n",
    "    - [!ref <CNN>, !ref <Transformer>, !ref <ctc_lin>]\n",
    "\n",
    "# define two optimizers here for two-stage training\n",
    "Adam: !name:torch.optim.Adam\n",
    "    lr: !ref <lr_adam>\n",
    "    betas: (0.9, 0.98)\n",
    "    eps: 0.000000001\n",
    "\n",
    "log_softmax: !new:torch.nn.LogSoftmax\n",
    "    dim: -1\n",
    "\n",
    "ctc_cost: !name:speechbrain.nnet.losses.ctc_loss\n",
    "    blank_index: !ref <blank_index>\n",
    "    reduction: !ref <loss_reduction>\n",
    "\n",
    "noam_annealing: !new:speechbrain.nnet.schedulers.NoamScheduler\n",
    "    lr_initial: !ref <lr_adam>\n",
    "    n_warmup_steps: 1500\n",
    "\n",
    "epoch_counter: !new:speechbrain.utils.epoch_loop.EpochCounter\n",
    "    limit: !ref <number_of_epochs>\n",
    "\n",
    "error_rate_computer: !name:speechbrain.utils.metric_stats.ErrorRateStats\n",
    "\n",
    "cer_computer: !name:speechbrain.utils.metric_stats.ErrorRateStats\n",
    "   split_tokens: True\n",
    "\n",
    "# The pretrainer allows a mapping between pretrained files and instances that\n",
    "# are declared in the yaml. E.g here, we will download the file tokenizer.ckpt\n",
    "# and it will be loaded into \"tokenizer\" which is pointing to the <pretrained_lm_tokenizer_path> defined\n",
    "# before.\n",
    "pretrainer: !new:speechbrain.utils.parameter_transfer.Pretrainer\n",
    "    loadables:\n",
    "        tokenizer: !ref <tokenizer>\n",
    "    paths:\n",
    "        tokenizer: !ref <pretrained_lm_tokenizer_path>/tokenizer.ckpt\n",
    "\"\"\""
   ]
  },
  {
   "cell_type": "code",
   "execution_count": 7,
   "metadata": {
    "id": "euJMqDLSWv7Y"
   },
   "outputs": [],
   "source": [
    "def dataio_prepare(hparams):\n",
    "    \"\"\"This function prepares the datasets to be used in the brain class.\n",
    "    It also defines the data processing pipeline through user-defined functions.\n",
    "    \"\"\"\n",
    "    # Define audio pipeline. In this case, we simply read the path contained\n",
    "    # in the variable wav with the audio reader.\n",
    "    @sb.utils.data_pipeline.takes(\"wav\")\n",
    "    @sb.utils.data_pipeline.provides(\"sig\")\n",
    "    def audio_pipeline(wav):\n",
    "        \"\"\"Load the audio signal. This is done on the CPU in the `collate_fn`.\"\"\"\n",
    "        sig = sb.dataio.dataio.read_audio(wav)\n",
    "        return sig\n",
    "\n",
    "    tokenizer = hparams[\"tokenizer\"]\n",
    "    # Define text processing pipeline. We start from the raw text and then\n",
    "    # encode it using the tokenizer. The tokens with BOS are used for feeding\n",
    "    # decoder during training, the tokens with EOS for computing the cost function.\n",
    "    # The tokens without BOS or EOS is for computing CTC loss.\n",
    "    @sb.utils.data_pipeline.takes(\"words\")\n",
    "    @sb.utils.data_pipeline.provides(\n",
    "        \"wrd\", \"tokens_list\", \"tokens_bos\", \"tokens_eos\", \"tokens\"\n",
    "    )\n",
    "    def text_pipeline(wrd):\n",
    "        \"\"\"Processes the transcriptions to generate proper labels\"\"\"\n",
    "        yield wrd\n",
    "        tokens_list = tokenizer.encode_as_ids(wrd)\n",
    "        yield tokens_list\n",
    "        tokens_bos = torch.LongTensor([hparams[\"bos_index\"]] + (tokens_list))\n",
    "        yield tokens_bos\n",
    "        tokens_eos = torch.LongTensor(tokens_list + [hparams[\"eos_index\"]])\n",
    "        yield tokens_eos\n",
    "        tokens = torch.LongTensor(tokens_list)\n",
    "        yield tokens\n",
    "\n",
    "    # Define datasets from json data manifest file\n",
    "    # Define datasets sorted by ascending lengths for efficiency\n",
    "    datasets = {}\n",
    "    data_folder = hparams[\"data_folder\"]\n",
    "    for dataset in [\"train\", \"valid\", \"test\"]:\n",
    "        datasets[dataset] = sb.dataio.dataset.DynamicItemDataset.from_json(\n",
    "            json_path=hparams[f\"{dataset}_annotation\"],\n",
    "            replacements={\"data_root\": data_folder},\n",
    "            dynamic_items=[audio_pipeline, text_pipeline],\n",
    "            output_keys=[\n",
    "                \"id\",\n",
    "                \"sig\",\n",
    "                \"wrd\",\n",
    "                \"tokens_bos\",\n",
    "                \"tokens_eos\",\n",
    "                \"tokens\",\n",
    "            ],\n",
    "        )\n",
    "        hparams[f\"{dataset}_dataloader_opts\"][\"shuffle\"] = False\n",
    "\n",
    "    datasets[\"train\"] = datasets[\"train\"].filtered_sorted(sort_key=\"length\")\n",
    "    hparams[\"train_dataloader_opts\"][\"shuffle\"] = False\n",
    "\n",
    "    return (\n",
    "        datasets[\"train\"],\n",
    "        datasets[\"valid\"],\n",
    "        datasets[\"test\"],\n",
    "        tokenizer\n",
    "    )"
   ]
  },
  {
   "cell_type": "code",
   "execution_count": 8,
   "metadata": {
    "id": "wUEBBUOQZ4V-"
   },
   "outputs": [],
   "source": [
    "# Define training procedure\n",
    "class BaseASR(sb.Brain):\n",
    "    def __init__(\n",
    "        self,\n",
    "        modules=None,\n",
    "        opt_class=None,\n",
    "        hparams=None,\n",
    "        run_opts=None,\n",
    "        checkpointer=None,\n",
    "        profiler=None,\n",
    "        tokenizer=None,\n",
    "    ):\n",
    "        super(BaseASR, self).__init__(\n",
    "            modules=modules,\n",
    "            opt_class=opt_class,\n",
    "            hparams=hparams,\n",
    "            run_opts=run_opts,\n",
    "            checkpointer=checkpointer,\n",
    "            profiler=profiler\n",
    "        )\n",
    "        self.tokenizer = tokenizer\n",
    "\n",
    "    def compute_forward(self, batch, stage):\n",
    "        \"\"\"Performs a forward pass through the encoder\"\"\"\n",
    "        batch = batch.to(self.device)\n",
    "        wavs, wav_lens = batch.sig\n",
    "        tokens_bos, _ = batch.tokens_bos\n",
    "\n",
    "        # compute features\n",
    "        ####TASK MAKE APPROPRIATE FUNCTION CALLS TO COMPUTE THE FEATURES BELOW\n",
    "        feats = self.hparams.compute_features(wavs)\n",
    "        current_epoch = self.hparams.epoch_counter.current\n",
    "        feats = self.modules.normalize(feats, wav_lens, epoch=current_epoch)\n",
    "\n",
    "        # forward modules\n",
    "        src = self.modules.CNN(feats)\n",
    "\n",
    "        enc_out, _ = self.modules.Transformer(\n",
    "            src, tokens_bos, wav_lens, pad_idx=self.hparams.pad_index,\n",
    "        )\n",
    "\n",
    "        # output layer for ctc log-probabilities\n",
    "        logits = self.modules.ctc_lin(enc_out)\n",
    "\n",
    "        ####TASK CALCULATE THE PROBABILITIES OF THESE LOGITS\n",
    "        #### USING SPEECHBRAIN\n",
    "        p_ctc = self.hparams.log_softmax(logits)\n",
    "\n",
    "        # Compute outputs\n",
    "        hyps = None\n",
    "        if stage == sb.Stage.TRAIN:\n",
    "            hyps = None\n",
    "        else:\n",
    "            hyps = sb.decoders.ctc_greedy_decode(\n",
    "                p_ctc, wav_lens, blank_id=self.hparams.blank_index\n",
    "            )\n",
    "\n",
    "        return p_ctc, wav_lens, hyps\n",
    "\n",
    "    def compute_objectives(self, predictions, batch, stage):\n",
    "        \"\"\"Computes the CTC loss given predictions and targets.\"\"\"\n",
    "\n",
    "        (p_ctc, wav_lens, hyps,) = predictions\n",
    "\n",
    "        ids = batch.id\n",
    "        tokens_eos, tokens_eos_lens = batch.tokens_eos\n",
    "        tokens, tokens_lens = batch.tokens\n",
    "\n",
    "        # Calculate CTC loss\n",
    "        ####TASK Make required function call to compute CTC LOSS\n",
    "        #### You have to aggregate the loss in the end so make appropriate\n",
    "        #### modifications to the value returned.\n",
    "        loss = self.hparams.ctc_cost(\n",
    "            p_ctc,tokens,wav_lens,tokens_lens\n",
    "        )\n",
    "\n",
    "        if stage != sb.Stage.TRAIN:\n",
    "            # Decode token terms to words\n",
    "            predicted_words = [\n",
    "                self.tokenizer.decode_ids(utt_seq).split(\" \") for utt_seq in hyps\n",
    "            ]\n",
    "            target_words = [wrd.split(\" \") for wrd in batch.wrd]\n",
    "            self.wer_metric.append(ids, predicted_words, target_words)\n",
    "            self.cer_metric.append(ids, predicted_words, target_words)\n",
    "\n",
    "        return loss\n",
    "\n",
    "    def on_evaluate_start(self, max_key=None, min_key=None):\n",
    "        \"\"\"Performs checkpoint averge if needed\"\"\"\n",
    "        super().on_evaluate_start()\n",
    "\n",
    "        ckpts = self.checkpointer.find_checkpoints(\n",
    "            max_key=max_key, min_key=min_key\n",
    "        )\n",
    "        ckpt = sb.utils.checkpoints.average_checkpoints(\n",
    "            ckpts, recoverable_name=\"model\", device=self.device\n",
    "        )\n",
    "\n",
    "        self.hparams.model.load_state_dict(ckpt, strict=True)\n",
    "        self.hparams.model.eval()\n",
    "        print(\"Loaded the average\")\n",
    "\n",
    "    def evaluate_batch(self, batch, stage):\n",
    "        \"\"\"Computations needed for validation/test batches\"\"\"\n",
    "        with torch.no_grad():\n",
    "            predictions = self.compute_forward(batch, stage=stage)\n",
    "            loss = self.compute_objectives(predictions, batch, stage=stage)\n",
    "        return loss.detach()\n",
    "\n",
    "    def on_stage_start(self, stage, epoch):\n",
    "        \"\"\"Gets called at the beginning of each epoch\"\"\"\n",
    "        if stage != sb.Stage.TRAIN:\n",
    "            self.cer_metric = self.hparams.cer_computer()\n",
    "            self.wer_metric = self.hparams.error_rate_computer()\n",
    "\n",
    "    def on_stage_end(self, stage, stage_loss, epoch):\n",
    "        \"\"\"Gets called at the end of a epoch.\"\"\"\n",
    "        # Compute/store important stats\n",
    "        stage_stats = {\"loss\": stage_loss}\n",
    "        if stage == sb.Stage.TRAIN:\n",
    "            self.train_stats = stage_stats\n",
    "        else:\n",
    "            stage_stats[\"CER\"] = self.cer_metric.summarize(\"error_rate\")\n",
    "            stage_stats[\"WER\"] = self.wer_metric.summarize(\"error_rate\")\n",
    "\n",
    "        # log stats and save checkpoint at end-of-epoch\n",
    "        if stage == sb.Stage.VALID and sb.utils.distributed.if_main_process():\n",
    "\n",
    "            lr = self.hparams.noam_annealing.current_lr\n",
    "            steps = self.optimizer_step\n",
    "            optimizer = self.optimizer.__class__.__name__\n",
    "\n",
    "            epoch_stats = {\n",
    "                \"epoch\": epoch,\n",
    "                \"lr\": lr,\n",
    "                \"steps\": steps,\n",
    "                \"optimizer\": optimizer,\n",
    "            }\n",
    "            self.hparams.train_logger.log_stats(\n",
    "                stats_meta=epoch_stats,\n",
    "                train_stats=self.train_stats,\n",
    "                valid_stats=stage_stats,\n",
    "            )\n",
    "            # Save only last 10 checkpoints\n",
    "            self.checkpointer.save_and_keep_only(\n",
    "                meta={\"loss\": stage_loss, \"epoch\": epoch},\n",
    "                max_keys=[\"epoch\"],\n",
    "                num_to_keep=10,\n",
    "            )\n",
    "\n",
    "        elif stage == sb.Stage.TEST:\n",
    "            self.hparams.train_logger.log_stats(\n",
    "                stats_meta={\"Epoch loaded\": self.hparams.epoch_counter.current},\n",
    "                test_stats=stage_stats,\n",
    "            )\n",
    "            # Write the WER metric for test dataset\n",
    "            if if_main_process():\n",
    "                with open(self.hparams.test_wer_file, \"w\") as w:\n",
    "                    self.wer_metric.write_stats(w)\n",
    "\n",
    "    def fit_batch(self, batch):\n",
    "        \"\"\"Performs a forward + backward pass on 1 batch\n",
    "        \"\"\"\n",
    "\n",
    "        should_step = self.step % self.grad_accumulation_factor == 0\n",
    "\n",
    "        outputs = self.compute_forward(batch, sb.Stage.TRAIN)\n",
    "        loss = self.compute_objectives(outputs, batch, sb.Stage.TRAIN)\n",
    "        loss.backward()\n",
    "        if self.check_gradients(loss):\n",
    "            self.optimizer.step()\n",
    "        self.zero_grad()\n",
    "        self.optimizer_step += 1\n",
    "        self.hparams.noam_annealing(self.optimizer)\n",
    "\n",
    "        self.on_fit_batch_end(batch, outputs, loss, should_step)\n",
    "        return loss.detach().cpu()"
   ]
  },
  {
   "cell_type": "code",
   "execution_count": 9,
   "metadata": {
    "id": "DDQEQ8M2MNAi"
   },
   "outputs": [],
   "source": [
    "task_hyperparameters = \"\"\"\n",
    "# Setup the directory to host experiment results\n",
    "output_folder: !ref results/transformer/Task_1\n",
    "wer_file: !ref <output_folder>/wer.txt\n",
    "save_folder: !ref <output_folder>/save\n",
    "train_log: !ref <output_folder>/train_log.txt\n",
    "\n",
    "train_logger: !new:speechbrain.utils.train_logger.FileTrainLogger\n",
    "    save_file: !ref <train_log>\n",
    "\n",
    "checkpointer: !new:speechbrain.utils.checkpoints.Checkpointer\n",
    "    checkpoints_dir: !ref <save_folder>\n",
    "    recoverables:\n",
    "        model: !ref <model>\n",
    "        noam_scheduler: !ref <noam_annealing>\n",
    "        normalizer: !ref <normalize>\n",
    "        counter: !ref <epoch_counter>\n",
    "\"\"\""
   ]
  },
  {
   "cell_type": "code",
   "execution_count": 10,
   "metadata": {
    "colab": {
     "base_uri": "https://localhost:8080/",
     "height": 878
    },
    "id": "tGonNC7u8hlJ",
    "outputId": "3ff7646b-7cad-43a2-9135-f29fd35dfeb3"
   },
   "outputs": [
    {
     "name": "stdout",
     "output_type": "stream",
     "text": [
      "speechbrain.core - Beginning experiment!\n",
      "speechbrain.core - Experiment folder: results/transformer/Task_1\n",
      "speechbrain.pretrained.fetching - Fetch tokenizer.ckpt: Using existing file/symlink in model_checkpoints/tokenizer.ckpt.\n",
      "speechbrain.utils.parameter_transfer - Set local path in self.paths[tokenizer] = model_checkpoints/tokenizer.ckpt\n",
      "speechbrain.utils.parameter_transfer - Loading pretrained files for: tokenizer\n",
      "speechbrain.utils.parameter_transfer - Redirecting (loading from local path): model_checkpoints/tokenizer.ckpt -> model_checkpoints/tokenizer.ckpt\n",
      "speechbrain.core - Info: max_grad_norm arg from hparam file is used\n",
      "speechbrain.core - Info: ckpt_interval_minutes arg from hparam file is used\n",
      "speechbrain.core - 698.9k trainable parameters in BaseASR\n",
      "speechbrain.utils.checkpoints - Would load a checkpoint here, but none found yet.\n",
      "speechbrain.utils.epoch_loop - Going into epoch 1\n"
     ]
    },
    {
     "name": "stderr",
     "output_type": "stream",
     "text": [
      "100%|██████████| 190/190 [00:32<00:00,  5.85it/s, train_loss=537]\n",
      "100%|██████████| 137/137 [00:08<00:00, 15.42it/s]"
     ]
    },
    {
     "name": "stdout",
     "output_type": "stream",
     "text": [
      "speechbrain.utils.train_logger - epoch: 1, lr: 1.26e-04, steps: 190, optimizer: Adam - train loss: 5.37e+02 - valid loss: 2.40e+02, valid CER: 1.00e+02, valid WER: 1.00e+02\n"
     ]
    },
    {
     "name": "stderr",
     "output_type": "stream",
     "text": [
      "\n"
     ]
    },
    {
     "name": "stdout",
     "output_type": "stream",
     "text": [
      "speechbrain.utils.checkpoints - Saved an end-of-epoch checkpoint in results/transformer/Task_1/save/CKPT+2024-02-10+16-37-19+00\n",
      "speechbrain.utils.epoch_loop - Going into epoch 2\n"
     ]
    },
    {
     "name": "stderr",
     "output_type": "stream",
     "text": [
      "100%|██████████| 190/190 [00:25<00:00,  7.41it/s, train_loss=433]\n",
      "100%|██████████| 137/137 [00:08<00:00, 15.45it/s]"
     ]
    },
    {
     "name": "stdout",
     "output_type": "stream",
     "text": [
      "speechbrain.utils.train_logger - epoch: 2, lr: 2.53e-04, steps: 380, optimizer: Adam - train loss: 4.33e+02 - valid loss: 2.33e+02, valid CER: 1.00e+02, valid WER: 1.00e+02\n"
     ]
    },
    {
     "name": "stderr",
     "output_type": "stream",
     "text": [
      "\n"
     ]
    },
    {
     "name": "stdout",
     "output_type": "stream",
     "text": [
      "speechbrain.utils.checkpoints - Saved an end-of-epoch checkpoint in results/transformer/Task_1/save/CKPT+2024-02-10+16-37-53+00\n",
      "speechbrain.utils.epoch_loop - Going into epoch 3\n"
     ]
    },
    {
     "name": "stderr",
     "output_type": "stream",
     "text": [
      "100%|██████████| 190/190 [00:24<00:00,  7.62it/s, train_loss=431]\n",
      "100%|██████████| 137/137 [00:08<00:00, 15.84it/s]"
     ]
    },
    {
     "name": "stdout",
     "output_type": "stream",
     "text": [
      "speechbrain.utils.train_logger - epoch: 3, lr: 3.79e-04, steps: 570, optimizer: Adam - train loss: 4.31e+02 - valid loss: 2.33e+02, valid CER: 1.00e+02, valid WER: 1.00e+02\n",
      "speechbrain.utils.checkpoints - Saved an end-of-epoch checkpoint in results/transformer/Task_1/save/CKPT+2024-02-10+16-38-27+00\n",
      "speechbrain.utils.epoch_loop - Going into epoch 4\n"
     ]
    },
    {
     "name": "stderr",
     "output_type": "stream",
     "text": [
      "\n",
      " 28%|██▊       | 53/190 [00:04<00:12, 10.73it/s, train_loss=265]\n"
     ]
    },
    {
     "ename": "KeyboardInterrupt",
     "evalue": "",
     "output_type": "error",
     "traceback": [
      "\u001b[0;31m---------------------------------------------------------------------------\u001b[0m",
      "\u001b[0;31mKeyboardInterrupt\u001b[0m                         Traceback (most recent call last)",
      "\u001b[0;32m<ipython-input-10-657bdbbd9c95>\u001b[0m in \u001b[0;36m<cell line: 38>\u001b[0;34m()\u001b[0m\n\u001b[1;32m     36\u001b[0m \u001b[0;34m\u001b[0m\u001b[0m\n\u001b[1;32m     37\u001b[0m \u001b[0;31m# Training\u001b[0m\u001b[0;34m\u001b[0m\u001b[0;34m\u001b[0m\u001b[0m\n\u001b[0;32m---> 38\u001b[0;31m asr_brain.fit(\n\u001b[0m\u001b[1;32m     39\u001b[0m     \u001b[0masr_brain\u001b[0m\u001b[0;34m.\u001b[0m\u001b[0mhparams\u001b[0m\u001b[0;34m.\u001b[0m\u001b[0mepoch_counter\u001b[0m\u001b[0;34m,\u001b[0m\u001b[0;34m\u001b[0m\u001b[0;34m\u001b[0m\u001b[0m\n\u001b[1;32m     40\u001b[0m     \u001b[0mtrain_data\u001b[0m\u001b[0;34m,\u001b[0m\u001b[0;34m\u001b[0m\u001b[0;34m\u001b[0m\u001b[0m\n",
      "\u001b[0;32m/content/speechbrain/speechbrain/core.py\u001b[0m in \u001b[0;36mfit\u001b[0;34m(self, epoch_counter, train_set, valid_set, progressbar, train_loader_kwargs, valid_loader_kwargs)\u001b[0m\n\u001b[1;32m   1364\u001b[0m         \u001b[0;31m# Iterate epochs\u001b[0m\u001b[0;34m\u001b[0m\u001b[0;34m\u001b[0m\u001b[0m\n\u001b[1;32m   1365\u001b[0m         \u001b[0;32mfor\u001b[0m \u001b[0mepoch\u001b[0m \u001b[0;32min\u001b[0m \u001b[0mepoch_counter\u001b[0m\u001b[0;34m:\u001b[0m\u001b[0;34m\u001b[0m\u001b[0;34m\u001b[0m\u001b[0m\n\u001b[0;32m-> 1366\u001b[0;31m             \u001b[0mself\u001b[0m\u001b[0;34m.\u001b[0m\u001b[0m_fit_train\u001b[0m\u001b[0;34m(\u001b[0m\u001b[0mtrain_set\u001b[0m\u001b[0;34m=\u001b[0m\u001b[0mtrain_set\u001b[0m\u001b[0;34m,\u001b[0m \u001b[0mepoch\u001b[0m\u001b[0;34m=\u001b[0m\u001b[0mepoch\u001b[0m\u001b[0;34m,\u001b[0m \u001b[0menable\u001b[0m\u001b[0;34m=\u001b[0m\u001b[0menable\u001b[0m\u001b[0;34m)\u001b[0m\u001b[0;34m\u001b[0m\u001b[0;34m\u001b[0m\u001b[0m\n\u001b[0m\u001b[1;32m   1367\u001b[0m             \u001b[0mself\u001b[0m\u001b[0;34m.\u001b[0m\u001b[0m_fit_valid\u001b[0m\u001b[0;34m(\u001b[0m\u001b[0mvalid_set\u001b[0m\u001b[0;34m=\u001b[0m\u001b[0mvalid_set\u001b[0m\u001b[0;34m,\u001b[0m \u001b[0mepoch\u001b[0m\u001b[0;34m=\u001b[0m\u001b[0mepoch\u001b[0m\u001b[0;34m,\u001b[0m \u001b[0menable\u001b[0m\u001b[0;34m=\u001b[0m\u001b[0menable\u001b[0m\u001b[0;34m)\u001b[0m\u001b[0;34m\u001b[0m\u001b[0;34m\u001b[0m\u001b[0m\n\u001b[1;32m   1368\u001b[0m \u001b[0;34m\u001b[0m\u001b[0m\n",
      "\u001b[0;32m/content/speechbrain/speechbrain/core.py\u001b[0m in \u001b[0;36m_fit_train\u001b[0;34m(self, train_set, epoch, enable)\u001b[0m\n\u001b[1;32m   1191\u001b[0m                 \u001b[0mself\u001b[0m\u001b[0;34m.\u001b[0m\u001b[0mstep\u001b[0m \u001b[0;34m+=\u001b[0m \u001b[0;36m1\u001b[0m\u001b[0;34m\u001b[0m\u001b[0;34m\u001b[0m\u001b[0m\n\u001b[1;32m   1192\u001b[0m                 \u001b[0msteps_since_ckpt\u001b[0m \u001b[0;34m+=\u001b[0m \u001b[0;36m1\u001b[0m\u001b[0;34m\u001b[0m\u001b[0;34m\u001b[0m\u001b[0m\n\u001b[0;32m-> 1193\u001b[0;31m                 \u001b[0mloss\u001b[0m \u001b[0;34m=\u001b[0m \u001b[0mself\u001b[0m\u001b[0;34m.\u001b[0m\u001b[0mfit_batch\u001b[0m\u001b[0;34m(\u001b[0m\u001b[0mbatch\u001b[0m\u001b[0;34m)\u001b[0m\u001b[0;34m\u001b[0m\u001b[0;34m\u001b[0m\u001b[0m\n\u001b[0m\u001b[1;32m   1194\u001b[0m                 self.avg_train_loss = self.update_average(\n\u001b[1;32m   1195\u001b[0m                     \u001b[0mloss\u001b[0m\u001b[0;34m,\u001b[0m \u001b[0mself\u001b[0m\u001b[0;34m.\u001b[0m\u001b[0mavg_train_loss\u001b[0m\u001b[0;34m\u001b[0m\u001b[0;34m\u001b[0m\u001b[0m\n",
      "\u001b[0;32m<ipython-input-8-ef1bc912a356>\u001b[0m in \u001b[0;36mfit_batch\u001b[0;34m(self, batch)\u001b[0m\n\u001b[1;32m    169\u001b[0m         \u001b[0mloss\u001b[0m\u001b[0;34m.\u001b[0m\u001b[0mbackward\u001b[0m\u001b[0;34m(\u001b[0m\u001b[0;34m)\u001b[0m\u001b[0;34m\u001b[0m\u001b[0;34m\u001b[0m\u001b[0m\n\u001b[1;32m    170\u001b[0m         \u001b[0;32mif\u001b[0m \u001b[0mself\u001b[0m\u001b[0;34m.\u001b[0m\u001b[0mcheck_gradients\u001b[0m\u001b[0;34m(\u001b[0m\u001b[0mloss\u001b[0m\u001b[0;34m)\u001b[0m\u001b[0;34m:\u001b[0m\u001b[0;34m\u001b[0m\u001b[0;34m\u001b[0m\u001b[0m\n\u001b[0;32m--> 171\u001b[0;31m             \u001b[0mself\u001b[0m\u001b[0;34m.\u001b[0m\u001b[0moptimizer\u001b[0m\u001b[0;34m.\u001b[0m\u001b[0mstep\u001b[0m\u001b[0;34m(\u001b[0m\u001b[0;34m)\u001b[0m\u001b[0;34m\u001b[0m\u001b[0;34m\u001b[0m\u001b[0m\n\u001b[0m\u001b[1;32m    172\u001b[0m         \u001b[0mself\u001b[0m\u001b[0;34m.\u001b[0m\u001b[0mzero_grad\u001b[0m\u001b[0;34m(\u001b[0m\u001b[0;34m)\u001b[0m\u001b[0;34m\u001b[0m\u001b[0;34m\u001b[0m\u001b[0m\n\u001b[1;32m    173\u001b[0m         \u001b[0mself\u001b[0m\u001b[0;34m.\u001b[0m\u001b[0moptimizer_step\u001b[0m \u001b[0;34m+=\u001b[0m \u001b[0;36m1\u001b[0m\u001b[0;34m\u001b[0m\u001b[0;34m\u001b[0m\u001b[0m\n",
      "\u001b[0;32m/usr/local/lib/python3.10/dist-packages/torch/optim/optimizer.py\u001b[0m in \u001b[0;36mwrapper\u001b[0;34m(*args, **kwargs)\u001b[0m\n\u001b[1;32m    371\u001b[0m                             )\n\u001b[1;32m    372\u001b[0m \u001b[0;34m\u001b[0m\u001b[0m\n\u001b[0;32m--> 373\u001b[0;31m                 \u001b[0mout\u001b[0m \u001b[0;34m=\u001b[0m \u001b[0mfunc\u001b[0m\u001b[0;34m(\u001b[0m\u001b[0;34m*\u001b[0m\u001b[0margs\u001b[0m\u001b[0;34m,\u001b[0m \u001b[0;34m**\u001b[0m\u001b[0mkwargs\u001b[0m\u001b[0;34m)\u001b[0m\u001b[0;34m\u001b[0m\u001b[0;34m\u001b[0m\u001b[0m\n\u001b[0m\u001b[1;32m    374\u001b[0m                 \u001b[0mself\u001b[0m\u001b[0;34m.\u001b[0m\u001b[0m_optimizer_step_code\u001b[0m\u001b[0;34m(\u001b[0m\u001b[0;34m)\u001b[0m\u001b[0;34m\u001b[0m\u001b[0;34m\u001b[0m\u001b[0m\n\u001b[1;32m    375\u001b[0m \u001b[0;34m\u001b[0m\u001b[0m\n",
      "\u001b[0;32m/usr/local/lib/python3.10/dist-packages/torch/optim/optimizer.py\u001b[0m in \u001b[0;36m_use_grad\u001b[0;34m(self, *args, **kwargs)\u001b[0m\n\u001b[1;32m     74\u001b[0m             \u001b[0mtorch\u001b[0m\u001b[0;34m.\u001b[0m\u001b[0mset_grad_enabled\u001b[0m\u001b[0;34m(\u001b[0m\u001b[0mself\u001b[0m\u001b[0;34m.\u001b[0m\u001b[0mdefaults\u001b[0m\u001b[0;34m[\u001b[0m\u001b[0;34m'differentiable'\u001b[0m\u001b[0;34m]\u001b[0m\u001b[0;34m)\u001b[0m\u001b[0;34m\u001b[0m\u001b[0;34m\u001b[0m\u001b[0m\n\u001b[1;32m     75\u001b[0m             \u001b[0mtorch\u001b[0m\u001b[0;34m.\u001b[0m\u001b[0m_dynamo\u001b[0m\u001b[0;34m.\u001b[0m\u001b[0mgraph_break\u001b[0m\u001b[0;34m(\u001b[0m\u001b[0;34m)\u001b[0m\u001b[0;34m\u001b[0m\u001b[0;34m\u001b[0m\u001b[0m\n\u001b[0;32m---> 76\u001b[0;31m             \u001b[0mret\u001b[0m \u001b[0;34m=\u001b[0m \u001b[0mfunc\u001b[0m\u001b[0;34m(\u001b[0m\u001b[0mself\u001b[0m\u001b[0;34m,\u001b[0m \u001b[0;34m*\u001b[0m\u001b[0margs\u001b[0m\u001b[0;34m,\u001b[0m \u001b[0;34m**\u001b[0m\u001b[0mkwargs\u001b[0m\u001b[0;34m)\u001b[0m\u001b[0;34m\u001b[0m\u001b[0;34m\u001b[0m\u001b[0m\n\u001b[0m\u001b[1;32m     77\u001b[0m         \u001b[0;32mfinally\u001b[0m\u001b[0;34m:\u001b[0m\u001b[0;34m\u001b[0m\u001b[0;34m\u001b[0m\u001b[0m\n\u001b[1;32m     78\u001b[0m             \u001b[0mtorch\u001b[0m\u001b[0;34m.\u001b[0m\u001b[0m_dynamo\u001b[0m\u001b[0;34m.\u001b[0m\u001b[0mgraph_break\u001b[0m\u001b[0;34m(\u001b[0m\u001b[0;34m)\u001b[0m\u001b[0;34m\u001b[0m\u001b[0;34m\u001b[0m\u001b[0m\n",
      "\u001b[0;32m/usr/local/lib/python3.10/dist-packages/torch/optim/adam.py\u001b[0m in \u001b[0;36mstep\u001b[0;34m(self, closure)\u001b[0m\n\u001b[1;32m    161\u001b[0m                 state_steps)\n\u001b[1;32m    162\u001b[0m \u001b[0;34m\u001b[0m\u001b[0m\n\u001b[0;32m--> 163\u001b[0;31m             adam(\n\u001b[0m\u001b[1;32m    164\u001b[0m                 \u001b[0mparams_with_grad\u001b[0m\u001b[0;34m,\u001b[0m\u001b[0;34m\u001b[0m\u001b[0;34m\u001b[0m\u001b[0m\n\u001b[1;32m    165\u001b[0m                 \u001b[0mgrads\u001b[0m\u001b[0;34m,\u001b[0m\u001b[0;34m\u001b[0m\u001b[0;34m\u001b[0m\u001b[0m\n",
      "\u001b[0;32m/usr/local/lib/python3.10/dist-packages/torch/optim/adam.py\u001b[0m in \u001b[0;36madam\u001b[0;34m(params, grads, exp_avgs, exp_avg_sqs, max_exp_avg_sqs, state_steps, foreach, capturable, differentiable, fused, grad_scale, found_inf, amsgrad, beta1, beta2, lr, weight_decay, eps, maximize)\u001b[0m\n\u001b[1;32m    309\u001b[0m         \u001b[0mfunc\u001b[0m \u001b[0;34m=\u001b[0m \u001b[0m_single_tensor_adam\u001b[0m\u001b[0;34m\u001b[0m\u001b[0;34m\u001b[0m\u001b[0m\n\u001b[1;32m    310\u001b[0m \u001b[0;34m\u001b[0m\u001b[0m\n\u001b[0;32m--> 311\u001b[0;31m     func(params,\n\u001b[0m\u001b[1;32m    312\u001b[0m          \u001b[0mgrads\u001b[0m\u001b[0;34m,\u001b[0m\u001b[0;34m\u001b[0m\u001b[0;34m\u001b[0m\u001b[0m\n\u001b[1;32m    313\u001b[0m          \u001b[0mexp_avgs\u001b[0m\u001b[0;34m,\u001b[0m\u001b[0;34m\u001b[0m\u001b[0;34m\u001b[0m\u001b[0m\n",
      "\u001b[0;32m/usr/local/lib/python3.10/dist-packages/torch/optim/adam.py\u001b[0m in \u001b[0;36m_multi_tensor_adam\u001b[0;34m(params, grads, exp_avgs, exp_avg_sqs, max_exp_avg_sqs, state_steps, grad_scale, found_inf, amsgrad, beta1, beta2, lr, weight_decay, eps, maximize, capturable, differentiable)\u001b[0m\n\u001b[1;32m    472\u001b[0m     \u001b[0;32massert\u001b[0m \u001b[0;32mnot\u001b[0m \u001b[0mdifferentiable\u001b[0m\u001b[0;34m,\u001b[0m \u001b[0;34m\"_foreach ops don't support autograd\"\u001b[0m\u001b[0;34m\u001b[0m\u001b[0;34m\u001b[0m\u001b[0m\n\u001b[1;32m    473\u001b[0m \u001b[0;34m\u001b[0m\u001b[0m\n\u001b[0;32m--> 474\u001b[0;31m     grouped_tensors = Optimizer._group_tensors_by_device_and_dtype(\n\u001b[0m\u001b[1;32m    475\u001b[0m         [params, grads, exp_avgs, exp_avg_sqs, max_exp_avg_sqs, state_steps])\n\u001b[1;32m    476\u001b[0m     for ((\n",
      "\u001b[0;32m/usr/local/lib/python3.10/dist-packages/torch/optim/optimizer.py\u001b[0m in \u001b[0;36m_group_tensors_by_device_and_dtype\u001b[0;34m(tensorlistlist, with_indices)\u001b[0m\n\u001b[1;32m    395\u001b[0m             \u001b[0;32mreturn\u001b[0m \u001b[0;34m{\u001b[0m\u001b[0;34m(\u001b[0m\u001b[0;32mNone\u001b[0m\u001b[0;34m,\u001b[0m \u001b[0;32mNone\u001b[0m\u001b[0;34m)\u001b[0m\u001b[0;34m:\u001b[0m \u001b[0;34m(\u001b[0m\u001b[0mtensorlistlist\u001b[0m\u001b[0;34m,\u001b[0m \u001b[0mlist\u001b[0m\u001b[0;34m(\u001b[0m\u001b[0mrange\u001b[0m\u001b[0;34m(\u001b[0m\u001b[0mlen\u001b[0m\u001b[0;34m(\u001b[0m\u001b[0mtensorlistlist\u001b[0m\u001b[0;34m[\u001b[0m\u001b[0;36m0\u001b[0m\u001b[0;34m]\u001b[0m\u001b[0;34m)\u001b[0m\u001b[0;34m)\u001b[0m\u001b[0;34m)\u001b[0m\u001b[0;34m)\u001b[0m\u001b[0;34m}\u001b[0m\u001b[0;34m\u001b[0m\u001b[0;34m\u001b[0m\u001b[0m\n\u001b[1;32m    396\u001b[0m         \u001b[0;32melse\u001b[0m\u001b[0;34m:\u001b[0m\u001b[0;34m\u001b[0m\u001b[0;34m\u001b[0m\u001b[0m\n\u001b[0;32m--> 397\u001b[0;31m             \u001b[0;32mreturn\u001b[0m \u001b[0m_group_tensors_by_device_and_dtype\u001b[0m\u001b[0;34m(\u001b[0m\u001b[0mtensorlistlist\u001b[0m\u001b[0;34m,\u001b[0m \u001b[0mwith_indices\u001b[0m\u001b[0;34m)\u001b[0m\u001b[0;34m\u001b[0m\u001b[0;34m\u001b[0m\u001b[0m\n\u001b[0m\u001b[1;32m    398\u001b[0m \u001b[0;34m\u001b[0m\u001b[0m\n\u001b[1;32m    399\u001b[0m     \u001b[0;32mdef\u001b[0m \u001b[0m_patch_step_function\u001b[0m\u001b[0;34m(\u001b[0m\u001b[0mself\u001b[0m\u001b[0;34m)\u001b[0m \u001b[0;34m->\u001b[0m \u001b[0;32mNone\u001b[0m\u001b[0;34m:\u001b[0m\u001b[0;34m\u001b[0m\u001b[0;34m\u001b[0m\u001b[0m\n",
      "\u001b[0;32m/usr/local/lib/python3.10/dist-packages/torch/utils/_contextlib.py\u001b[0m in \u001b[0;36mdecorate_context\u001b[0;34m(*args, **kwargs)\u001b[0m\n\u001b[1;32m    113\u001b[0m     \u001b[0;32mdef\u001b[0m \u001b[0mdecorate_context\u001b[0m\u001b[0;34m(\u001b[0m\u001b[0;34m*\u001b[0m\u001b[0margs\u001b[0m\u001b[0;34m,\u001b[0m \u001b[0;34m**\u001b[0m\u001b[0mkwargs\u001b[0m\u001b[0;34m)\u001b[0m\u001b[0;34m:\u001b[0m\u001b[0;34m\u001b[0m\u001b[0;34m\u001b[0m\u001b[0m\n\u001b[1;32m    114\u001b[0m         \u001b[0;32mwith\u001b[0m \u001b[0mctx_factory\u001b[0m\u001b[0;34m(\u001b[0m\u001b[0;34m)\u001b[0m\u001b[0;34m:\u001b[0m\u001b[0;34m\u001b[0m\u001b[0;34m\u001b[0m\u001b[0m\n\u001b[0;32m--> 115\u001b[0;31m             \u001b[0;32mreturn\u001b[0m \u001b[0mfunc\u001b[0m\u001b[0;34m(\u001b[0m\u001b[0;34m*\u001b[0m\u001b[0margs\u001b[0m\u001b[0;34m,\u001b[0m \u001b[0;34m**\u001b[0m\u001b[0mkwargs\u001b[0m\u001b[0;34m)\u001b[0m\u001b[0;34m\u001b[0m\u001b[0;34m\u001b[0m\u001b[0m\n\u001b[0m\u001b[1;32m    116\u001b[0m \u001b[0;34m\u001b[0m\u001b[0m\n\u001b[1;32m    117\u001b[0m     \u001b[0;32mreturn\u001b[0m \u001b[0mdecorate_context\u001b[0m\u001b[0;34m\u001b[0m\u001b[0;34m\u001b[0m\u001b[0m\n",
      "\u001b[0;32m/usr/local/lib/python3.10/dist-packages/torch/utils/_foreach_utils.py\u001b[0m in \u001b[0;36m_group_tensors_by_device_and_dtype\u001b[0;34m(tensorlistlist, with_indices)\u001b[0m\n\u001b[1;32m     40\u001b[0m         \u001b[0;34m(\u001b[0m\u001b[0mdevice\u001b[0m\u001b[0;34m,\u001b[0m \u001b[0mgetattr\u001b[0m\u001b[0;34m(\u001b[0m\u001b[0mtorch\u001b[0m\u001b[0;34m,\u001b[0m \u001b[0mstr_dtype\u001b[0m\u001b[0;34m)\u001b[0m\u001b[0;34m)\u001b[0m\u001b[0;34m:\u001b[0m \u001b[0mvalue\u001b[0m\u001b[0;34m\u001b[0m\u001b[0;34m\u001b[0m\u001b[0m\n\u001b[1;32m     41\u001b[0m         \u001b[0;32mfor\u001b[0m \u001b[0;34m(\u001b[0m\u001b[0mdevice\u001b[0m\u001b[0;34m,\u001b[0m \u001b[0mstr_dtype\u001b[0m\u001b[0;34m)\u001b[0m\u001b[0;34m,\u001b[0m \u001b[0mvalue\u001b[0m \u001b[0;32min\u001b[0m\u001b[0;34m\u001b[0m\u001b[0;34m\u001b[0m\u001b[0m\n\u001b[0;32m---> 42\u001b[0;31m         \u001b[0mtorch\u001b[0m\u001b[0;34m.\u001b[0m\u001b[0m_C\u001b[0m\u001b[0;34m.\u001b[0m\u001b[0m_group_tensors_by_device_and_dtype\u001b[0m\u001b[0;34m(\u001b[0m\u001b[0mtensorlistlist\u001b[0m\u001b[0;34m,\u001b[0m \u001b[0mwith_indices\u001b[0m\u001b[0;34m)\u001b[0m\u001b[0;34m.\u001b[0m\u001b[0mitems\u001b[0m\u001b[0;34m(\u001b[0m\u001b[0;34m)\u001b[0m\u001b[0;34m\u001b[0m\u001b[0;34m\u001b[0m\u001b[0m\n\u001b[0m\u001b[1;32m     43\u001b[0m     }\n\u001b[1;32m     44\u001b[0m \u001b[0;34m\u001b[0m\u001b[0m\n",
      "\u001b[0;31mKeyboardInterrupt\u001b[0m: "
     ]
    }
   ],
   "source": [
    "hyperparams = global_hyperparams + task_hyperparameters\n",
    "hparams = load_hyperpyyaml(hyperparams)\n",
    "\n",
    "# Create experiment directory\n",
    "sb.create_experiment_directory(\n",
    "    experiment_directory=hparams[\"output_folder\"],\n",
    "    overrides=None,\n",
    ")\n",
    "\n",
    "# Here we create the datasets objects as well as tokenization and encoding\n",
    "(\n",
    "    train_data,\n",
    "    valid_data,\n",
    "    test_data,\n",
    "    tokenizer\n",
    ") = dataio_prepare(hparams)\n",
    "\n",
    "# We download the pretrained LM from HuggingFace (or elsewhere depending on\n",
    "# the path given in the YAML file). The tokenizer is loaded at the same time.\n",
    "run_on_main(hparams[\"pretrainer\"].collect_files)\n",
    "hparams[\"pretrainer\"].load_collected(device=run_opts[\"device\"])\n",
    "\n",
    "# Trainer initialization\n",
    "asr_brain = BaseASR(\n",
    "    modules=hparams[\"modules\"],\n",
    "    opt_class=hparams[\"Adam\"],\n",
    "    hparams=hparams,\n",
    "    checkpointer=hparams[\"checkpointer\"],\n",
    "    run_opts=run_opts,\n",
    "    tokenizer=tokenizer,\n",
    ")\n",
    "\n",
    "# adding objects to trainer:\n",
    "train_dataloader_opts = hparams[\"train_dataloader_opts\"]\n",
    "valid_dataloader_opts = hparams[\"valid_dataloader_opts\"]\n",
    "\n",
    "# Training\n",
    "asr_brain.fit(\n",
    "    asr_brain.hparams.epoch_counter,\n",
    "    train_data,\n",
    "    valid_data,\n",
    "    train_loader_kwargs=train_dataloader_opts,\n",
    "    valid_loader_kwargs=valid_dataloader_opts\n",
    ")\n",
    "\n",
    "# Testing\n",
    "asr_brain.hparams.test_wer_file = asr_brain.hparams.wer_file\n",
    "asr_brain.evaluate(\n",
    "    test_data,\n",
    "    max_key=\"epoch\",\n",
    "    test_loader_kwargs=hparams[\"test_dataloader_opts\"],\n",
    ")"
   ]
  },
  {
   "cell_type": "markdown",
   "metadata": {
    "id": "wHIRKDrPPRGW"
   },
   "source": [
    "# Part II(A): CTC is all you need\n",
    "In this section, you will train a **6-layer Conformer** encoder with both  `CTC` and `inter-CTC` losses.\n",
    "\n",
    "> Indented block\n",
    "\n"
   ]
  },
  {
   "cell_type": "code",
   "execution_count": 54,
   "metadata": {
    "id": "SdoAx39-pSAw"
   },
   "outputs": [],
   "source": [
    "class ASR_2A(BaseASR):\n",
    "    def __init__(\n",
    "        self, *args, **kwargs\n",
    "    ):\n",
    "        super().__init__(*args, **kwargs)\n",
    "        self.inter_ctc_weight = self.hparams.interctc_weight\n",
    "        self.intermediate_layers = [int(layer) for layer in self.hparams.intermediate_layers.split(',')]\n",
    "\n",
    "        # Variable to hold intermediate logits for interCTC loss calculation\n",
    "        self.inter_logits = []\n",
    "\n",
    "        # TODO: Define a helper function get_intermediate_output for the forward hook\n",
    "        def get_intermediate_output(module, input, output):\n",
    "            # TODO: Complete this function\n",
    "            self.inter_logits.append(output[0])\n",
    "\n",
    "        # TODO: Register hooks for all the intermediate encoder layers of interest.\n",
    "        # TODO: Refer to register_forward_hook (https://pytorch.org/docs/stable/generated/torch.nn.modules.module.register_module_forward_hook.html)\n",
    "        # TODO: Save all the hooks in a list self.hooks that you can remove later from the module\n",
    "        self.hooks = []\n",
    "\n",
    "        for layer_idx in self.intermediate_layers:\n",
    "            layer = self.modules.Transformer.encoder.layers[layer_idx-1]\n",
    "            hook = layer.register_forward_hook(get_intermediate_output)\n",
    "            self.hooks.append(hook)\n",
    "\n",
    "\n",
    "    def compute_forward(self, batch, stage):\n",
    "        \"\"\"Performs a forward pass through the encoder\"\"\"\n",
    "        batch = batch.to(self.device)\n",
    "        wavs, wav_lens = batch.sig\n",
    "        tokens_bos, _ = batch.tokens_bos\n",
    "\n",
    "        # compute features\n",
    "        feats = self.hparams.compute_features(wavs)\n",
    "        current_epoch = self.hparams.epoch_counter.current\n",
    "        feats = self.modules.normalize(feats, wav_lens, epoch=current_epoch)\n",
    "\n",
    "        # forward modules\n",
    "        src = self.modules.CNN(feats)\n",
    "\n",
    "        assert len(self.inter_logits) == 0, \"self.inter_logits should be empty as we haven't done a forward pass yet\"\n",
    "        enc_out, _ = self.modules.Transformer(\n",
    "            src, tokens_bos, wav_lens, pad_idx=self.hparams.pad_index,\n",
    "        )\n",
    "\n",
    "        # Compute final layer logit\n",
    "        logits = self.modules.ctc_lin(enc_out)\n",
    "        p_ctc = self.hparams.log_softmax(logits)\n",
    "\n",
    "        # TODO: Append all the intermediate layer logits to the following list: inter_p_ctc\n",
    "        # TODO: Go through all the layers in intermediate_layers. Note that the comma-separated list in intermediate_layers is 1-indexed.\n",
    "        # TODO: Complete code below to populate inter_p_ctc\n",
    "\n",
    "        interctc_logits = [self.modules.ctc_lin(torch.tensor(logits)) for logits in self.inter_logits]\n",
    "        inter_p_ctc = [self.hparams.log_softmax(logits) for logits in interctc_logits]\n",
    "\n",
    "        # Flush the logits saved during last forward pass.\n",
    "        self.inter_logits = []\n",
    "\n",
    "        # Compute outputs\n",
    "        hyps = None\n",
    "        if stage == sb.Stage.TRAIN:\n",
    "            assert len(inter_p_ctc) != 0 , \"inter_p_ctc should NOT be empty as forward pass is already done\"\n",
    "            hyps = None\n",
    "        else:\n",
    "            hyps = sb.decoders.ctc_greedy_decode(\n",
    "                p_ctc, wav_lens, blank_id=self.hparams.blank_index\n",
    "            )\n",
    "\n",
    "        return p_ctc, inter_p_ctc, wav_lens, hyps\n",
    "\n",
    "    def on_evaluate_start(self, max_key=None, min_key=None):\n",
    "        \"\"\"Performs sanity operations before inferencing on the test set.\"\"\"\n",
    "        if self.checkpointer is not None:\n",
    "            self.checkpointer.recover_if_possible(\n",
    "                max_key=max_key,\n",
    "                min_key=min_key,\n",
    "                device=torch.device(self.device),\n",
    "            )\n",
    "\n",
    "        # Deregister hooks here as they are not needed during evaluation\n",
    "        for hook in self.hooks:\n",
    "            hook.remove()\n",
    "\n",
    "    def compute_objectives(self, predictions, batch, stage):\n",
    "        \"\"\"Computes the CTC + inter-CTC loss given predictions and targets.\"\"\"\n",
    "\n",
    "        (p_ctc, inter_p_ctc, wav_lens, hyps,) = predictions\n",
    "\n",
    "        ids = batch.id\n",
    "        tokens_eos, tokens_eos_lens = batch.tokens_eos\n",
    "        tokens, tokens_lens = batch.tokens\n",
    "\n",
    "        # TODO: Compute inter-CTC loss\n",
    "        loss_inter_ctc = [self.hparams.ctc_cost(probs,tokens,wav_lens,tokens_lens) for probs in inter_p_ctc] #### COMPLETE THIS ####\n",
    "        loss_inter_ctc = sum(loss_inter_ctc)\n",
    "        # TODO: Write code to appropriately accumulate the inter-CTC loss in loss_inter_ctc\n",
    "        # TODO: using the softmax probabilities saved for each intermediate layer in inter_p_ctc\n",
    "\n",
    "        # Compute final layer CTC loss\n",
    "        loss_ctc = self.hparams.ctc_cost(\n",
    "            p_ctc,tokens,wav_lens,tokens_lens\n",
    "        )\n",
    "\n",
    "        # Compute final loss as a weighted combination of inter-CTC and CTC\n",
    "        loss = self.inter_ctc_weight * loss_inter_ctc + (1 - self.inter_ctc_weight) * loss_ctc\n",
    "\n",
    "        if stage != sb.Stage.TRAIN:\n",
    "            # Decode token terms to words\n",
    "            predicted_words = [\n",
    "                    self.tokenizer.decode_ids(utt_seq).split(\" \") for utt_seq in hyps\n",
    "                ]\n",
    "            target_words = [wrd.split(\" \") for wrd in batch.wrd]\n",
    "            self.wer_metric.append(ids, predicted_words, target_words)\n",
    "            self.cer_metric.append(ids, predicted_words, target_words)\n",
    "\n",
    "        return loss"
   ]
  },
  {
   "cell_type": "code",
   "execution_count": 55,
   "metadata": {
    "id": "aoIb-4TdnyC4"
   },
   "outputs": [],
   "source": [
    "task_hyperparameters = \"\"\"\n",
    "\n",
    "# Setup the directory to host experiment results\n",
    "output_folder: !ref results/transformer/Part_2A\n",
    "wer_file: !ref <output_folder>/wer.txt\n",
    "save_folder: !ref <output_folder>/save\n",
    "train_log: !ref <output_folder>/train_log.txt\n",
    "\n",
    "interctc_weight: 0.3\n",
    "intermediate_layers: '2,4'\n",
    "\n",
    "train_logger: !new:speechbrain.utils.train_logger.FileTrainLogger\n",
    "    save_file: !ref <train_log>\n",
    "\n",
    "checkpointer: !new:speechbrain.utils.checkpoints.Checkpointer\n",
    "    checkpoints_dir: !ref <save_folder>\n",
    "    recoverables:\n",
    "        model: !ref <model>\n",
    "        noam_scheduler: !ref <noam_annealing>\n",
    "        normalizer: !ref <normalize>\n",
    "        counter: !ref <epoch_counter>\n",
    "\"\"\""
   ]
  },
  {
   "cell_type": "code",
   "execution_count": 56,
   "metadata": {
    "colab": {
     "base_uri": "https://localhost:8080/"
    },
    "id": "AX-kl1dKMx-Q",
    "outputId": "f2922ef1-9fec-4dc6-b28e-f78c916e3b93"
   },
   "outputs": [
    {
     "name": "stdout",
     "output_type": "stream",
     "text": [
      "speechbrain.core - Beginning experiment!\n",
      "speechbrain.core - Experiment folder: results/transformer/Part_2A\n",
      "speechbrain.pretrained.fetching - Fetch tokenizer.ckpt: Using existing file/symlink in model_checkpoints/tokenizer.ckpt.\n",
      "speechbrain.utils.parameter_transfer - Set local path in self.paths[tokenizer] = model_checkpoints/tokenizer.ckpt\n",
      "speechbrain.utils.parameter_transfer - Loading pretrained files for: tokenizer\n",
      "speechbrain.utils.parameter_transfer - Redirecting (loading from local path): model_checkpoints/tokenizer.ckpt -> model_checkpoints/tokenizer.ckpt\n",
      "speechbrain.core - Info: max_grad_norm arg from hparam file is used\n",
      "speechbrain.core - Info: ckpt_interval_minutes arg from hparam file is used\n",
      "speechbrain.core - 698.9k trainable parameters in ASR_2A\n",
      "speechbrain.utils.checkpoints - Would load a checkpoint here, but none found yet.\n",
      "speechbrain.utils.epoch_loop - Going into epoch 1\n"
     ]
    },
    {
     "name": "stderr",
     "output_type": "stream",
     "text": [
      "  0%|          | 0/190 [00:00<?, ?it/s]<ipython-input-54-7de10364dc0f>:55: UserWarning: To copy construct from a tensor, it is recommended to use sourceTensor.clone().detach() or sourceTensor.clone().detach().requires_grad_(True), rather than torch.tensor(sourceTensor).\n",
      "  interctc_logits = [self.modules.ctc_lin(torch.tensor(logits)) for logits in self.inter_logits]\n",
      "100%|██████████| 190/190 [00:26<00:00,  7.30it/s, train_loss=991]\n",
      "100%|██████████| 137/137 [00:08<00:00, 15.96it/s]"
     ]
    },
    {
     "name": "stdout",
     "output_type": "stream",
     "text": [
      "speechbrain.utils.train_logger - epoch: 1, lr: 1.26e-04, steps: 190, optimizer: Adam - train loss: 9.91e+02 - valid loss: 4.54e+02, valid CER: 1.00e+02, valid WER: 1.00e+02\n"
     ]
    },
    {
     "name": "stderr",
     "output_type": "stream",
     "text": [
      "\n"
     ]
    },
    {
     "name": "stdout",
     "output_type": "stream",
     "text": [
      "speechbrain.utils.checkpoints - Saved an end-of-epoch checkpoint in results/transformer/Part_2A/save/CKPT+2024-02-10+17-48-48+00\n",
      "speechbrain.utils.epoch_loop - Going into epoch 2\n"
     ]
    },
    {
     "name": "stderr",
     "output_type": "stream",
     "text": [
      "100%|██████████| 190/190 [00:25<00:00,  7.34it/s, train_loss=728]\n",
      "100%|██████████| 137/137 [00:08<00:00, 16.62it/s]"
     ]
    },
    {
     "name": "stdout",
     "output_type": "stream",
     "text": [
      "speechbrain.utils.train_logger - epoch: 2, lr: 2.53e-04, steps: 380, optimizer: Adam - train loss: 7.28e+02 - valid loss: 3.52e+02, valid CER: 1.00e+02, valid WER: 1.00e+02\n"
     ]
    },
    {
     "name": "stderr",
     "output_type": "stream",
     "text": [
      "\n"
     ]
    },
    {
     "name": "stdout",
     "output_type": "stream",
     "text": [
      "speechbrain.utils.checkpoints - Saved an end-of-epoch checkpoint in results/transformer/Part_2A/save/CKPT+2024-02-10+17-49-23+00\n",
      "speechbrain.utils.epoch_loop - Going into epoch 3\n"
     ]
    },
    {
     "name": "stderr",
     "output_type": "stream",
     "text": [
      "100%|██████████| 190/190 [00:25<00:00,  7.33it/s, train_loss=615]\n",
      "100%|██████████| 137/137 [00:08<00:00, 16.70it/s]"
     ]
    },
    {
     "name": "stdout",
     "output_type": "stream",
     "text": [
      "speechbrain.utils.train_logger - epoch: 3, lr: 3.79e-04, steps: 570, optimizer: Adam - train loss: 6.15e+02 - valid loss: 3.37e+02, valid CER: 1.00e+02, valid WER: 1.00e+02\n"
     ]
    },
    {
     "name": "stderr",
     "output_type": "stream",
     "text": [
      "\n"
     ]
    },
    {
     "name": "stdout",
     "output_type": "stream",
     "text": [
      "speechbrain.utils.checkpoints - Saved an end-of-epoch checkpoint in results/transformer/Part_2A/save/CKPT+2024-02-10+17-49-57+00\n",
      "speechbrain.utils.epoch_loop - Going into epoch 4\n"
     ]
    },
    {
     "name": "stderr",
     "output_type": "stream",
     "text": [
      "100%|██████████| 190/190 [00:25<00:00,  7.34it/s, train_loss=640]\n",
      "100%|██████████| 137/137 [00:08<00:00, 15.32it/s]"
     ]
    },
    {
     "name": "stdout",
     "output_type": "stream",
     "text": [
      "speechbrain.utils.train_logger - epoch: 4, lr: 5.06e-04, steps: 760, optimizer: Adam - train loss: 6.40e+02 - valid loss: 3.64e+02, valid CER: 98.39, valid WER: 98.13\n",
      "speechbrain.utils.checkpoints - Saved an end-of-epoch checkpoint in results/transformer/Part_2A/save/CKPT+2024-02-10+17-50-32+00\n"
     ]
    },
    {
     "name": "stderr",
     "output_type": "stream",
     "text": [
      "\n"
     ]
    },
    {
     "name": "stdout",
     "output_type": "stream",
     "text": [
      "speechbrain.utils.epoch_loop - Going into epoch 5\n"
     ]
    },
    {
     "name": "stderr",
     "output_type": "stream",
     "text": [
      "100%|██████████| 190/190 [00:25<00:00,  7.41it/s, train_loss=685]\n",
      "100%|██████████| 137/137 [00:09<00:00, 15.14it/s]"
     ]
    },
    {
     "name": "stdout",
     "output_type": "stream",
     "text": [
      "speechbrain.utils.train_logger - epoch: 5, lr: 6.33e-04, steps: 950, optimizer: Adam - train loss: 6.85e+02 - valid loss: 3.56e+02, valid CER: 98.96, valid WER: 99.91\n"
     ]
    },
    {
     "name": "stderr",
     "output_type": "stream",
     "text": [
      "\n"
     ]
    },
    {
     "name": "stdout",
     "output_type": "stream",
     "text": [
      "speechbrain.utils.checkpoints - Saved an end-of-epoch checkpoint in results/transformer/Part_2A/save/CKPT+2024-02-10+17-51-07+00\n",
      "speechbrain.utils.epoch_loop - Going into epoch 6\n"
     ]
    },
    {
     "name": "stderr",
     "output_type": "stream",
     "text": [
      "100%|██████████| 190/190 [00:25<00:00,  7.39it/s, train_loss=609]\n",
      "100%|██████████| 137/137 [00:10<00:00, 13.34it/s]"
     ]
    },
    {
     "name": "stdout",
     "output_type": "stream",
     "text": [
      "speechbrain.utils.train_logger - epoch: 6, lr: 7.59e-04, steps: 1140, optimizer: Adam - train loss: 6.09e+02 - valid loss: 3.14e+02, valid CER: 83.54, valid WER: 97.08\n"
     ]
    },
    {
     "name": "stderr",
     "output_type": "stream",
     "text": [
      "\n"
     ]
    },
    {
     "name": "stdout",
     "output_type": "stream",
     "text": [
      "speechbrain.utils.checkpoints - Saved an end-of-epoch checkpoint in results/transformer/Part_2A/save/CKPT+2024-02-10+17-51-43+00\n",
      "speechbrain.utils.epoch_loop - Going into epoch 7\n"
     ]
    },
    {
     "name": "stderr",
     "output_type": "stream",
     "text": [
      "100%|██████████| 190/190 [00:25<00:00,  7.35it/s, train_loss=544]\n",
      "100%|██████████| 137/137 [00:11<00:00, 12.11it/s]"
     ]
    },
    {
     "name": "stdout",
     "output_type": "stream",
     "text": [
      "speechbrain.utils.train_logger - epoch: 7, lr: 8.86e-04, steps: 1330, optimizer: Adam - train loss: 5.44e+02 - valid loss: 2.81e+02, valid CER: 74.01, valid WER: 94.39\n"
     ]
    },
    {
     "name": "stderr",
     "output_type": "stream",
     "text": [
      "\n"
     ]
    },
    {
     "name": "stdout",
     "output_type": "stream",
     "text": [
      "speechbrain.utils.checkpoints - Saved an end-of-epoch checkpoint in results/transformer/Part_2A/save/CKPT+2024-02-10+17-52-20+00\n",
      "speechbrain.utils.epoch_loop - Going into epoch 8\n"
     ]
    },
    {
     "name": "stderr",
     "output_type": "stream",
     "text": [
      "100%|██████████| 190/190 [00:25<00:00,  7.36it/s, train_loss=497]\n",
      "100%|██████████| 137/137 [00:11<00:00, 11.51it/s]"
     ]
    },
    {
     "name": "stdout",
     "output_type": "stream",
     "text": [
      "speechbrain.utils.train_logger - epoch: 8, lr: 9.94e-04, steps: 1520, optimizer: Adam - train loss: 4.97e+02 - valid loss: 2.58e+02, valid CER: 67.89, valid WER: 92.75\n"
     ]
    },
    {
     "name": "stderr",
     "output_type": "stream",
     "text": [
      "\n"
     ]
    },
    {
     "name": "stdout",
     "output_type": "stream",
     "text": [
      "speechbrain.utils.checkpoints - Saved an end-of-epoch checkpoint in results/transformer/Part_2A/save/CKPT+2024-02-10+17-52-58+00\n",
      "speechbrain.utils.epoch_loop - Going into epoch 9\n"
     ]
    },
    {
     "name": "stderr",
     "output_type": "stream",
     "text": [
      "100%|██████████| 190/190 [00:26<00:00,  7.26it/s, train_loss=453]\n",
      "100%|██████████| 137/137 [00:12<00:00, 10.88it/s]"
     ]
    },
    {
     "name": "stdout",
     "output_type": "stream",
     "text": [
      "speechbrain.utils.train_logger - epoch: 9, lr: 9.37e-04, steps: 1710, optimizer: Adam - train loss: 4.53e+02 - valid loss: 2.38e+02, valid CER: 61.35, valid WER: 90.46\n",
      "speechbrain.utils.checkpoints - Saved an end-of-epoch checkpoint in results/transformer/Part_2A/save/CKPT+2024-02-10+17-53-37+00\n"
     ]
    },
    {
     "name": "stderr",
     "output_type": "stream",
     "text": [
      "\n"
     ]
    },
    {
     "name": "stdout",
     "output_type": "stream",
     "text": [
      "speechbrain.utils.epoch_loop - Going into epoch 10\n"
     ]
    },
    {
     "name": "stderr",
     "output_type": "stream",
     "text": [
      "100%|██████████| 190/190 [00:25<00:00,  7.40it/s, train_loss=424]\n",
      "100%|██████████| 137/137 [00:12<00:00, 10.59it/s]"
     ]
    },
    {
     "name": "stdout",
     "output_type": "stream",
     "text": [
      "speechbrain.utils.train_logger - epoch: 10, lr: 8.89e-04, steps: 1900, optimizer: Adam - train loss: 4.24e+02 - valid loss: 2.25e+02, valid CER: 58.43, valid WER: 89.65\n",
      "speechbrain.utils.checkpoints - Saved an end-of-epoch checkpoint in results/transformer/Part_2A/save/CKPT+2024-02-10+17-54-16+00\n"
     ]
    },
    {
     "name": "stderr",
     "output_type": "stream",
     "text": [
      "\n"
     ]
    },
    {
     "name": "stdout",
     "output_type": "stream",
     "text": [
      "speechbrain.utils.epoch_loop - Going into epoch 11\n"
     ]
    },
    {
     "name": "stderr",
     "output_type": "stream",
     "text": [
      "100%|██████████| 190/190 [00:25<00:00,  7.43it/s, train_loss=403]\n",
      "100%|██████████| 137/137 [00:13<00:00, 10.43it/s]"
     ]
    },
    {
     "name": "stdout",
     "output_type": "stream",
     "text": [
      "speechbrain.utils.train_logger - epoch: 11, lr: 8.47e-04, steps: 2090, optimizer: Adam - train loss: 4.03e+02 - valid loss: 2.17e+02, valid CER: 55.85, valid WER: 88.05\n",
      "speechbrain.utils.checkpoints - Saved an end-of-epoch checkpoint in results/transformer/Part_2A/save/CKPT+2024-02-10+17-54-55+00\n"
     ]
    },
    {
     "name": "stderr",
     "output_type": "stream",
     "text": [
      "\n"
     ]
    },
    {
     "name": "stdout",
     "output_type": "stream",
     "text": [
      "speechbrain.utils.checkpoints - Deleted checkpoint in results/transformer/Part_2A/save/CKPT+2024-02-10+17-48-48+00\n",
      "speechbrain.utils.epoch_loop - Going into epoch 12\n"
     ]
    },
    {
     "name": "stderr",
     "output_type": "stream",
     "text": [
      "100%|██████████| 190/190 [00:26<00:00,  7.24it/s, train_loss=385]\n",
      "100%|██████████| 137/137 [00:13<00:00, 10.14it/s]"
     ]
    },
    {
     "name": "stdout",
     "output_type": "stream",
     "text": [
      "speechbrain.utils.train_logger - epoch: 12, lr: 8.11e-04, steps: 2280, optimizer: Adam - train loss: 3.85e+02 - valid loss: 2.10e+02, valid CER: 54.13, valid WER: 86.74\n"
     ]
    },
    {
     "name": "stderr",
     "output_type": "stream",
     "text": [
      "\n"
     ]
    },
    {
     "name": "stdout",
     "output_type": "stream",
     "text": [
      "speechbrain.utils.checkpoints - Saved an end-of-epoch checkpoint in results/transformer/Part_2A/save/CKPT+2024-02-10+17-55-35+00\n",
      "speechbrain.utils.checkpoints - Deleted checkpoint in results/transformer/Part_2A/save/CKPT+2024-02-10+17-49-23+00\n",
      "speechbrain.utils.epoch_loop - Going into epoch 13\n"
     ]
    },
    {
     "name": "stderr",
     "output_type": "stream",
     "text": [
      "100%|██████████| 190/190 [00:25<00:00,  7.42it/s, train_loss=372]\n",
      "100%|██████████| 137/137 [00:13<00:00, 10.04it/s]"
     ]
    },
    {
     "name": "stdout",
     "output_type": "stream",
     "text": [
      "speechbrain.utils.train_logger - epoch: 13, lr: 7.79e-04, steps: 2470, optimizer: Adam - train loss: 3.72e+02 - valid loss: 2.04e+02, valid CER: 52.12, valid WER: 85.84\n",
      "speechbrain.utils.checkpoints - Saved an end-of-epoch checkpoint in results/transformer/Part_2A/save/CKPT+2024-02-10+17-56-15+00\n"
     ]
    },
    {
     "name": "stderr",
     "output_type": "stream",
     "text": [
      "\n"
     ]
    },
    {
     "name": "stdout",
     "output_type": "stream",
     "text": [
      "speechbrain.utils.checkpoints - Deleted checkpoint in results/transformer/Part_2A/save/CKPT+2024-02-10+17-49-57+00\n",
      "speechbrain.utils.epoch_loop - Going into epoch 14\n"
     ]
    },
    {
     "name": "stderr",
     "output_type": "stream",
     "text": [
      "100%|██████████| 190/190 [00:25<00:00,  7.31it/s, train_loss=359]\n",
      "100%|██████████| 137/137 [00:15<00:00,  9.10it/s]"
     ]
    },
    {
     "name": "stdout",
     "output_type": "stream",
     "text": [
      "speechbrain.utils.train_logger - epoch: 14, lr: 7.51e-04, steps: 2660, optimizer: Adam - train loss: 3.59e+02 - valid loss: 2.00e+02, valid CER: 49.73, valid WER: 84.45\n"
     ]
    },
    {
     "name": "stderr",
     "output_type": "stream",
     "text": [
      "\n"
     ]
    },
    {
     "name": "stdout",
     "output_type": "stream",
     "text": [
      "speechbrain.utils.checkpoints - Saved an end-of-epoch checkpoint in results/transformer/Part_2A/save/CKPT+2024-02-10+17-56-56+00\n",
      "speechbrain.utils.checkpoints - Deleted checkpoint in results/transformer/Part_2A/save/CKPT+2024-02-10+17-50-32+00\n",
      "speechbrain.utils.epoch_loop - Going into epoch 15\n"
     ]
    },
    {
     "name": "stderr",
     "output_type": "stream",
     "text": [
      "100%|██████████| 190/190 [00:26<00:00,  7.07it/s, train_loss=350]\n",
      "100%|██████████| 137/137 [00:14<00:00,  9.30it/s]"
     ]
    },
    {
     "name": "stdout",
     "output_type": "stream",
     "text": [
      "speechbrain.utils.train_logger - epoch: 15, lr: 7.26e-04, steps: 2850, optimizer: Adam - train loss: 3.50e+02 - valid loss: 1.96e+02, valid CER: 47.38, valid WER: 83.55\n"
     ]
    },
    {
     "name": "stderr",
     "output_type": "stream",
     "text": [
      "\n"
     ]
    },
    {
     "name": "stdout",
     "output_type": "stream",
     "text": [
      "speechbrain.utils.checkpoints - Saved an end-of-epoch checkpoint in results/transformer/Part_2A/save/CKPT+2024-02-10+17-57-38+00\n",
      "speechbrain.utils.checkpoints - Deleted checkpoint in results/transformer/Part_2A/save/CKPT+2024-02-10+17-51-07+00\n",
      "speechbrain.utils.epoch_loop - Going into epoch 16\n"
     ]
    },
    {
     "name": "stderr",
     "output_type": "stream",
     "text": [
      "100%|██████████| 190/190 [00:26<00:00,  7.06it/s, train_loss=341]\n",
      "100%|██████████| 137/137 [00:14<00:00,  9.61it/s]"
     ]
    },
    {
     "name": "stdout",
     "output_type": "stream",
     "text": [
      "speechbrain.utils.train_logger - epoch: 16, lr: 7.03e-04, steps: 3040, optimizer: Adam - train loss: 3.41e+02 - valid loss: 1.92e+02, valid CER: 46.51, valid WER: 83.21\n"
     ]
    },
    {
     "name": "stderr",
     "output_type": "stream",
     "text": [
      "\n"
     ]
    },
    {
     "name": "stdout",
     "output_type": "stream",
     "text": [
      "speechbrain.utils.checkpoints - Saved an end-of-epoch checkpoint in results/transformer/Part_2A/save/CKPT+2024-02-10+17-58-20+00\n",
      "speechbrain.utils.checkpoints - Deleted checkpoint in results/transformer/Part_2A/save/CKPT+2024-02-10+17-51-43+00\n",
      "speechbrain.utils.epoch_loop - Going into epoch 17\n"
     ]
    },
    {
     "name": "stderr",
     "output_type": "stream",
     "text": [
      "100%|██████████| 190/190 [00:26<00:00,  7.21it/s, train_loss=332]\n",
      "100%|██████████| 137/137 [00:14<00:00,  9.58it/s]"
     ]
    },
    {
     "name": "stdout",
     "output_type": "stream",
     "text": [
      "speechbrain.utils.train_logger - epoch: 17, lr: 6.82e-04, steps: 3230, optimizer: Adam - train loss: 3.32e+02 - valid loss: 1.89e+02, valid CER: 45.22, valid WER: 82.29\n"
     ]
    },
    {
     "name": "stderr",
     "output_type": "stream",
     "text": [
      "\n"
     ]
    },
    {
     "name": "stdout",
     "output_type": "stream",
     "text": [
      "speechbrain.utils.checkpoints - Saved an end-of-epoch checkpoint in results/transformer/Part_2A/save/CKPT+2024-02-10+17-59-01+00\n",
      "speechbrain.utils.checkpoints - Deleted checkpoint in results/transformer/Part_2A/save/CKPT+2024-02-10+17-52-20+00\n",
      "speechbrain.utils.epoch_loop - Going into epoch 18\n"
     ]
    },
    {
     "name": "stderr",
     "output_type": "stream",
     "text": [
      "100%|██████████| 190/190 [00:30<00:00,  6.32it/s, train_loss=325]\n",
      "100%|██████████| 137/137 [00:15<00:00,  8.83it/s]"
     ]
    },
    {
     "name": "stdout",
     "output_type": "stream",
     "text": [
      "speechbrain.utils.train_logger - epoch: 18, lr: 6.62e-04, steps: 3420, optimizer: Adam - train loss: 3.25e+02 - valid loss: 1.86e+02, valid CER: 44.13, valid WER: 81.69\n"
     ]
    },
    {
     "name": "stderr",
     "output_type": "stream",
     "text": [
      "\n"
     ]
    },
    {
     "name": "stdout",
     "output_type": "stream",
     "text": [
      "speechbrain.utils.checkpoints - Saved an end-of-epoch checkpoint in results/transformer/Part_2A/save/CKPT+2024-02-10+17-59-47+00\n",
      "speechbrain.utils.checkpoints - Deleted checkpoint in results/transformer/Part_2A/save/CKPT+2024-02-10+17-52-58+00\n",
      "speechbrain.utils.epoch_loop - Going into epoch 19\n"
     ]
    },
    {
     "name": "stderr",
     "output_type": "stream",
     "text": [
      "100%|██████████| 190/190 [00:29<00:00,  6.48it/s, train_loss=318]\n",
      "100%|██████████| 137/137 [00:14<00:00,  9.31it/s]"
     ]
    },
    {
     "name": "stdout",
     "output_type": "stream",
     "text": [
      "speechbrain.utils.train_logger - epoch: 19, lr: 6.45e-04, steps: 3610, optimizer: Adam - train loss: 3.18e+02 - valid loss: 1.84e+02, valid CER: 43.48, valid WER: 81.46\n",
      "speechbrain.utils.checkpoints - Saved an end-of-epoch checkpoint in results/transformer/Part_2A/save/CKPT+2024-02-10+18-00-32+00\n"
     ]
    },
    {
     "name": "stderr",
     "output_type": "stream",
     "text": [
      "\n"
     ]
    },
    {
     "name": "stdout",
     "output_type": "stream",
     "text": [
      "speechbrain.utils.checkpoints - Deleted checkpoint in results/transformer/Part_2A/save/CKPT+2024-02-10+17-53-37+00\n",
      "speechbrain.utils.epoch_loop - Going into epoch 20\n"
     ]
    },
    {
     "name": "stderr",
     "output_type": "stream",
     "text": [
      "100%|██████████| 190/190 [00:26<00:00,  7.05it/s, train_loss=312]\n",
      "100%|██████████| 137/137 [00:16<00:00,  8.54it/s]"
     ]
    },
    {
     "name": "stdout",
     "output_type": "stream",
     "text": [
      "speechbrain.utils.train_logger - epoch: 20, lr: 6.28e-04, steps: 3800, optimizer: Adam - train loss: 3.12e+02 - valid loss: 1.82e+02, valid CER: 42.99, valid WER: 81.12\n"
     ]
    },
    {
     "name": "stderr",
     "output_type": "stream",
     "text": [
      "\n"
     ]
    },
    {
     "name": "stdout",
     "output_type": "stream",
     "text": [
      "speechbrain.utils.checkpoints - Saved an end-of-epoch checkpoint in results/transformer/Part_2A/save/CKPT+2024-02-10+18-01-16+00\n",
      "speechbrain.utils.checkpoints - Deleted checkpoint in results/transformer/Part_2A/save/CKPT+2024-02-10+17-54-16+00\n",
      "speechbrain.utils.epoch_loop - Going into epoch 21\n"
     ]
    },
    {
     "name": "stderr",
     "output_type": "stream",
     "text": [
      "100%|██████████| 190/190 [00:29<00:00,  6.54it/s, train_loss=306]\n",
      "100%|██████████| 137/137 [00:19<00:00,  6.98it/s]"
     ]
    },
    {
     "name": "stdout",
     "output_type": "stream",
     "text": [
      "speechbrain.utils.train_logger - epoch: 21, lr: 6.13e-04, steps: 3990, optimizer: Adam - train loss: 3.06e+02 - valid loss: 1.82e+02, valid CER: 42.21, valid WER: 80.76\n",
      "speechbrain.utils.checkpoints - Saved an end-of-epoch checkpoint in results/transformer/Part_2A/save/CKPT+2024-02-10+18-02-05+00\n"
     ]
    },
    {
     "name": "stderr",
     "output_type": "stream",
     "text": [
      "\n"
     ]
    },
    {
     "name": "stdout",
     "output_type": "stream",
     "text": [
      "speechbrain.utils.checkpoints - Deleted checkpoint in results/transformer/Part_2A/save/CKPT+2024-02-10+17-54-55+00\n",
      "speechbrain.utils.epoch_loop - Going into epoch 22\n"
     ]
    },
    {
     "name": "stderr",
     "output_type": "stream",
     "text": [
      "100%|██████████| 190/190 [00:28<00:00,  6.57it/s, train_loss=302]\n",
      "100%|██████████| 137/137 [00:17<00:00,  7.74it/s]"
     ]
    },
    {
     "name": "stdout",
     "output_type": "stream",
     "text": [
      "speechbrain.utils.train_logger - epoch: 22, lr: 5.99e-04, steps: 4180, optimizer: Adam - train loss: 3.02e+02 - valid loss: 1.80e+02, valid CER: 41.77, valid WER: 80.51\n",
      "speechbrain.utils.checkpoints - Saved an end-of-epoch checkpoint in results/transformer/Part_2A/save/CKPT+2024-02-10+18-02-52+00\n"
     ]
    },
    {
     "name": "stderr",
     "output_type": "stream",
     "text": [
      "\n"
     ]
    },
    {
     "name": "stdout",
     "output_type": "stream",
     "text": [
      "speechbrain.utils.checkpoints - Deleted checkpoint in results/transformer/Part_2A/save/CKPT+2024-02-10+17-55-35+00\n",
      "speechbrain.utils.epoch_loop - Going into epoch 23\n"
     ]
    },
    {
     "name": "stderr",
     "output_type": "stream",
     "text": [
      "100%|██████████| 190/190 [00:27<00:00,  6.79it/s, train_loss=298]\n",
      "100%|██████████| 137/137 [00:15<00:00,  8.67it/s]"
     ]
    },
    {
     "name": "stdout",
     "output_type": "stream",
     "text": [
      "speechbrain.utils.train_logger - epoch: 23, lr: 5.86e-04, steps: 4370, optimizer: Adam - train loss: 2.98e+02 - valid loss: 1.79e+02, valid CER: 40.79, valid WER: 80.45\n"
     ]
    },
    {
     "name": "stderr",
     "output_type": "stream",
     "text": [
      "\n"
     ]
    },
    {
     "name": "stdout",
     "output_type": "stream",
     "text": [
      "speechbrain.utils.checkpoints - Saved an end-of-epoch checkpoint in results/transformer/Part_2A/save/CKPT+2024-02-10+18-03-36+00\n",
      "speechbrain.utils.checkpoints - Deleted checkpoint in results/transformer/Part_2A/save/CKPT+2024-02-10+17-56-15+00\n",
      "speechbrain.utils.epoch_loop - Going into epoch 24\n"
     ]
    },
    {
     "name": "stderr",
     "output_type": "stream",
     "text": [
      "100%|██████████| 190/190 [00:28<00:00,  6.77it/s, train_loss=293]\n",
      "100%|██████████| 137/137 [00:17<00:00,  7.86it/s]"
     ]
    },
    {
     "name": "stdout",
     "output_type": "stream",
     "text": [
      "speechbrain.utils.train_logger - epoch: 24, lr: 5.74e-04, steps: 4560, optimizer: Adam - train loss: 2.93e+02 - valid loss: 1.77e+02, valid CER: 40.45, valid WER: 79.53\n"
     ]
    },
    {
     "name": "stderr",
     "output_type": "stream",
     "text": [
      "\n"
     ]
    },
    {
     "name": "stdout",
     "output_type": "stream",
     "text": [
      "speechbrain.utils.checkpoints - Saved an end-of-epoch checkpoint in results/transformer/Part_2A/save/CKPT+2024-02-10+18-04-22+00\n",
      "speechbrain.utils.checkpoints - Deleted checkpoint in results/transformer/Part_2A/save/CKPT+2024-02-10+17-56-56+00\n",
      "speechbrain.utils.epoch_loop - Going into epoch 25\n"
     ]
    },
    {
     "name": "stderr",
     "output_type": "stream",
     "text": [
      "100%|██████████| 190/190 [00:27<00:00,  6.98it/s, train_loss=289]\n",
      "100%|██████████| 137/137 [00:15<00:00,  8.72it/s]"
     ]
    },
    {
     "name": "stdout",
     "output_type": "stream",
     "text": [
      "speechbrain.utils.train_logger - epoch: 25, lr: 5.62e-04, steps: 4750, optimizer: Adam - train loss: 2.89e+02 - valid loss: 1.77e+02, valid CER: 39.86, valid WER: 79.54\n"
     ]
    },
    {
     "name": "stderr",
     "output_type": "stream",
     "text": [
      "\n"
     ]
    },
    {
     "name": "stdout",
     "output_type": "stream",
     "text": [
      "speechbrain.utils.checkpoints - Saved an end-of-epoch checkpoint in results/transformer/Part_2A/save/CKPT+2024-02-10+18-05-05+00\n",
      "speechbrain.utils.checkpoints - Deleted checkpoint in results/transformer/Part_2A/save/CKPT+2024-02-10+17-57-38+00\n",
      "speechbrain.utils.epoch_loop - Going into epoch 26\n"
     ]
    },
    {
     "name": "stderr",
     "output_type": "stream",
     "text": [
      "100%|██████████| 190/190 [00:26<00:00,  7.21it/s, train_loss=287]\n",
      "100%|██████████| 137/137 [00:15<00:00,  9.05it/s]"
     ]
    },
    {
     "name": "stdout",
     "output_type": "stream",
     "text": [
      "speechbrain.utils.train_logger - epoch: 26, lr: 5.51e-04, steps: 4940, optimizer: Adam - train loss: 2.87e+02 - valid loss: 1.77e+02, valid CER: 40.03, valid WER: 79.40\n"
     ]
    },
    {
     "name": "stderr",
     "output_type": "stream",
     "text": [
      "\n"
     ]
    },
    {
     "name": "stdout",
     "output_type": "stream",
     "text": [
      "speechbrain.utils.checkpoints - Saved an end-of-epoch checkpoint in results/transformer/Part_2A/save/CKPT+2024-02-10+18-05-48+00\n",
      "speechbrain.utils.checkpoints - Deleted checkpoint in results/transformer/Part_2A/save/CKPT+2024-02-10+17-58-20+00\n",
      "speechbrain.utils.epoch_loop - Going into epoch 27\n"
     ]
    },
    {
     "name": "stderr",
     "output_type": "stream",
     "text": [
      "100%|██████████| 190/190 [00:26<00:00,  7.29it/s, train_loss=283]\n",
      "100%|██████████| 137/137 [00:15<00:00,  9.08it/s]"
     ]
    },
    {
     "name": "stdout",
     "output_type": "stream",
     "text": [
      "speechbrain.utils.train_logger - epoch: 27, lr: 5.41e-04, steps: 5130, optimizer: Adam - train loss: 2.83e+02 - valid loss: 1.77e+02, valid CER: 39.62, valid WER: 79.29\n"
     ]
    },
    {
     "name": "stderr",
     "output_type": "stream",
     "text": [
      "\n"
     ]
    },
    {
     "name": "stdout",
     "output_type": "stream",
     "text": [
      "speechbrain.utils.checkpoints - Saved an end-of-epoch checkpoint in results/transformer/Part_2A/save/CKPT+2024-02-10+18-06-29+00\n",
      "speechbrain.utils.checkpoints - Deleted checkpoint in results/transformer/Part_2A/save/CKPT+2024-02-10+17-59-01+00\n",
      "speechbrain.utils.epoch_loop - Going into epoch 28\n"
     ]
    },
    {
     "name": "stderr",
     "output_type": "stream",
     "text": [
      "100%|██████████| 190/190 [00:26<00:00,  7.25it/s, train_loss=279]\n",
      "100%|██████████| 137/137 [00:15<00:00,  8.83it/s]"
     ]
    },
    {
     "name": "stdout",
     "output_type": "stream",
     "text": [
      "speechbrain.utils.train_logger - epoch: 28, lr: 5.31e-04, steps: 5320, optimizer: Adam - train loss: 2.79e+02 - valid loss: 1.75e+02, valid CER: 39.16, valid WER: 78.88\n"
     ]
    },
    {
     "name": "stderr",
     "output_type": "stream",
     "text": [
      "\n"
     ]
    },
    {
     "name": "stdout",
     "output_type": "stream",
     "text": [
      "speechbrain.utils.checkpoints - Saved an end-of-epoch checkpoint in results/transformer/Part_2A/save/CKPT+2024-02-10+18-07-12+00\n",
      "speechbrain.utils.checkpoints - Deleted checkpoint in results/transformer/Part_2A/save/CKPT+2024-02-10+17-59-47+00\n",
      "speechbrain.utils.epoch_loop - Going into epoch 29\n"
     ]
    },
    {
     "name": "stderr",
     "output_type": "stream",
     "text": [
      "100%|██████████| 190/190 [00:25<00:00,  7.32it/s, train_loss=276]\n",
      "100%|██████████| 137/137 [00:15<00:00,  9.01it/s]"
     ]
    },
    {
     "name": "stdout",
     "output_type": "stream",
     "text": [
      "speechbrain.utils.train_logger - epoch: 29, lr: 5.22e-04, steps: 5510, optimizer: Adam - train loss: 2.76e+02 - valid loss: 1.74e+02, valid CER: 39.13, valid WER: 78.14\n"
     ]
    },
    {
     "name": "stderr",
     "output_type": "stream",
     "text": [
      "\n"
     ]
    },
    {
     "name": "stdout",
     "output_type": "stream",
     "text": [
      "speechbrain.utils.checkpoints - Saved an end-of-epoch checkpoint in results/transformer/Part_2A/save/CKPT+2024-02-10+18-07-54+00\n",
      "speechbrain.utils.checkpoints - Deleted checkpoint in results/transformer/Part_2A/save/CKPT+2024-02-10+18-00-32+00\n",
      "speechbrain.utils.epoch_loop - Going into epoch 30\n"
     ]
    },
    {
     "name": "stderr",
     "output_type": "stream",
     "text": [
      "100%|██████████| 190/190 [00:26<00:00,  7.20it/s, train_loss=274]\n",
      "100%|██████████| 137/137 [00:14<00:00,  9.21it/s]"
     ]
    },
    {
     "name": "stdout",
     "output_type": "stream",
     "text": [
      "speechbrain.utils.train_logger - epoch: 30, lr: 5.13e-04, steps: 5700, optimizer: Adam - train loss: 2.74e+02 - valid loss: 1.74e+02, valid CER: 38.94, valid WER: 77.94\n"
     ]
    },
    {
     "name": "stderr",
     "output_type": "stream",
     "text": [
      "\n"
     ]
    },
    {
     "name": "stdout",
     "output_type": "stream",
     "text": [
      "speechbrain.utils.checkpoints - Saved an end-of-epoch checkpoint in results/transformer/Part_2A/save/CKPT+2024-02-10+18-08-36+00\n",
      "speechbrain.utils.checkpoints - Deleted checkpoint in results/transformer/Part_2A/save/CKPT+2024-02-10+18-01-16+00\n",
      "speechbrain.utils.checkpoints - Would load a checkpoint here, but none found yet.\n"
     ]
    },
    {
     "name": "stderr",
     "output_type": "stream",
     "text": [
      "100%|██████████| 328/328 [00:44<00:00,  7.42it/s]"
     ]
    },
    {
     "name": "stdout",
     "output_type": "stream",
     "text": [
      "speechbrain.utils.train_logger - Epoch loaded: 30 - test loss: 86.45, test CER: 39.44, test WER: 78.21\n"
     ]
    },
    {
     "name": "stderr",
     "output_type": "stream",
     "text": [
      "\n"
     ]
    },
    {
     "data": {
      "text/plain": [
       "86.44729613094789"
      ]
     },
     "execution_count": 56,
     "metadata": {},
     "output_type": "execute_result"
    }
   ],
   "source": [
    "hyperparams = global_hyperparams + task_hyperparameters\n",
    "hparams = load_hyperpyyaml(hyperparams)\n",
    "\n",
    "# Create experiment directory\n",
    "sb.create_experiment_directory(\n",
    "    experiment_directory=hparams[\"output_folder\"],\n",
    "    overrides=None,\n",
    ")\n",
    "\n",
    "# We download the pretrained LM from HuggingFace (or elsewhere depending on\n",
    "# the path given in the YAML file). The tokenizer is loaded at the same time.\n",
    "run_on_main(hparams[\"pretrainer\"].collect_files)\n",
    "hparams[\"pretrainer\"].load_collected(device=run_opts[\"device\"])\n",
    "\n",
    "# Trainer initialization\n",
    "asr_brain = ASR_2A(\n",
    "    modules=hparams[\"modules\"],\n",
    "    opt_class=hparams[\"Adam\"],\n",
    "    hparams=hparams,\n",
    "    checkpointer=hparams[\"checkpointer\"],\n",
    "    run_opts=run_opts,\n",
    "    tokenizer=tokenizer,\n",
    ")\n",
    "\n",
    "# adding objects to trainer:\n",
    "train_dataloader_opts = hparams[\"train_dataloader_opts\"]\n",
    "valid_dataloader_opts = hparams[\"valid_dataloader_opts\"]\n",
    "\n",
    "# Training\n",
    "asr_brain.fit(\n",
    "    asr_brain.hparams.epoch_counter,\n",
    "    train_data,\n",
    "    valid_data,\n",
    "    train_loader_kwargs=train_dataloader_opts,\n",
    "    valid_loader_kwargs=valid_dataloader_opts\n",
    ")\n",
    "\n",
    "# Testing\n",
    "\n",
    "asr_brain.hparams.test_wer_file = asr_brain.hparams.wer_file\n",
    "asr_brain.evaluate(\n",
    "    test_data,\n",
    "    max_key=\"ACC\",\n",
    "    test_loader_kwargs=hparams[\"test_dataloader_opts\"],\n",
    ")"
   ]
  },
  {
   "cell_type": "markdown",
   "metadata": {
    "id": "06q84-WOPblt"
   },
   "source": [
    "# Task 2.2: The PowerConv Module\n",
    "In this section, we will update the Conformer encoder by replacing Convolution with **PowerConv**. Rest of the architecture remains the same. Note this will be added on top of inter-CTC."
   ]
  },
  {
   "cell_type": "code",
   "execution_count": 57,
   "metadata": {
    "id": "BwQRTzBE3Qga"
   },
   "outputs": [],
   "source": [
    "task_hyperparameters = \"\"\"\n",
    "\n",
    "# Setup the directory to host experiment results\n",
    "output_folder: !ref results/transformer/Task_2B\n",
    "wer_file: !ref <output_folder>/wer.txt\n",
    "save_folder: !ref <output_folder>/save\n",
    "train_log: !ref <output_folder>/train_log.txt\n",
    "\n",
    "interctc_weight: 0.3\n",
    "intermediate_layers: '2,4'\n",
    "\n",
    "train_logger: !new:speechbrain.utils.train_logger.FileTrainLogger\n",
    "    save_file: !ref <train_log>\n",
    "\n",
    "checkpointer: !new:speechbrain.utils.checkpoints.Checkpointer\n",
    "    checkpoints_dir: !ref <save_folder>\n",
    "    recoverables:\n",
    "        model: !ref <model>\n",
    "        noam_scheduler: !ref <noam_annealing>\n",
    "        normalizer: !ref <normalize>\n",
    "        counter: !ref <epoch_counter>\n",
    "\"\"\""
   ]
  },
  {
   "cell_type": "code",
   "execution_count": 81,
   "metadata": {
    "id": "1gneZWFH7TmC"
   },
   "outputs": [],
   "source": [
    "import torch\n",
    "import speechbrain as sb\n",
    "\n",
    "from speechbrain.nnet.attention import (\n",
    "    RelPosMHAXL,\n",
    "    MultiheadAttention,\n",
    "    PositionalwiseFeedForward,\n",
    ")\n",
    "from speechbrain.nnet.normalization import LayerNorm\n",
    "from speechbrain.nnet.activations import Swish\n",
    "from speechbrain.nnet.CNN import Conv1d\n",
    "\n",
    "class PowerConv(torch.nn.Module):\n",
    "    def __init__(\n",
    "        self,\n",
    "        input_size,\n",
    "        kernel_size=31,\n",
    "        dropout=0.0,\n",
    "    ):\n",
    "        super().__init__()\n",
    "\n",
    "        # We upsample our input by a factor of 2 to\n",
    "        input_size = input_size*2\n",
    "        self.input_size = input_size\n",
    "\n",
    "        self.n_channels = input_size // 2  # split input channels\n",
    "\n",
    "        # TODO: First projection feedforward layer to upsample the input\n",
    "        self.channel_proj1 = torch.nn.Linear(self.n_channels,input_size) ### TODO: Fill in\n",
    "        self.norm = torch.nn.LayerNorm(self.n_channels) ### TODO: Layer normalization\n",
    "        self.conv = torch.nn.Conv1d(self.n_channels, self.n_channels, kernel_size=kernel_size, groups=self.n_channels,padding='same')### TODO: Initialize depthwise 1D Convolution\n",
    "        ### TODO: Use the groups parameter in the Conv1D class and set it to n_channels\n",
    "        ### TODO: Note that this conv operator does not change the feature dimensionality.\n",
    "        ### TODO: Use the appropriate value for the padding parameter in the Conv1D class to keep the feature dimensionality unaltered.\n",
    "\n",
    "        # TODO: Second projection feedforward layer\n",
    "        self.channel_proj2 = torch.nn.Linear(self.n_channels,self.n_channels)### TODO: Fill in\n",
    "        self.dropout = torch.nn.Dropout(p=0.5)### TODO: Dropout layer\n",
    "\n",
    "        # Initialize convolution with ones.\n",
    "        torch.nn.init.ones_(self.conv.bias)\n",
    "\n",
    "    def forward(self, x):\n",
    "        \"\"\"\n",
    "            Shape of input x: (B, T, D)\n",
    "            Return output of shape: (B, T, D)\n",
    "        \"\"\"\n",
    "        # TODO: Implement the PowerConv module as described in the assignment pdf\n",
    "        x = self.norm(x)\n",
    "        x = self.channel_proj1(x)\n",
    "\n",
    "        #PConv need to be defined\n",
    "        pconv = x[:,:,:self.n_channels]\n",
    "        x = x[:,:,self.n_channels:]\n",
    "        pconv = self.norm(pconv)\n",
    "        pconv = self.channel_proj2(pconv)\n",
    "\n",
    "        x = x*pconv\n",
    "        x = self.dropout(x)\n",
    "        x = self.channel_proj2(x)\n",
    "        return x\n",
    "\n",
    "class CustomConformerEncoderLayer(torch.nn.Module):\n",
    "    def __init__(\n",
    "        self,\n",
    "        d_model,\n",
    "        d_ffn,\n",
    "        nhead,\n",
    "        kernel_size=31,\n",
    "        kdim=None,\n",
    "        vdim=None,\n",
    "        activation=Swish,\n",
    "        bias=True,\n",
    "        dropout=0.0,\n",
    "        causal=False,\n",
    "        attention_type=\"RelPosMHAXL\",\n",
    "    ):\n",
    "        super().__init__()\n",
    "\n",
    "        # Self attention block\n",
    "        if attention_type == \"regularMHA\":\n",
    "            self.mha_layer = MultiheadAttention(\n",
    "                nhead=nhead,\n",
    "                d_model=d_model,\n",
    "                dropout=dropout,\n",
    "                kdim=kdim,\n",
    "                vdim=vdim,\n",
    "            )\n",
    "        elif attention_type == \"RelPosMHAXL\":\n",
    "            # transformerXL style positional encoding\n",
    "            self.mha_layer = RelPosMHAXL(\n",
    "                num_heads=nhead,\n",
    "                embed_dim=d_model,\n",
    "                dropout=dropout,\n",
    "                mask_pos_future=causal,\n",
    "            )\n",
    "        else:\n",
    "            raise ValueError(\"Unknown attention type\")\n",
    "\n",
    "        # Create instance of our custom convolution block\n",
    "        self.convolution_module = PowerConv(\n",
    "            d_model, kernel_size, dropout\n",
    "        )\n",
    "\n",
    "        # Feed forward macaron block\n",
    "        self.ffn_module1 = torch.nn.Sequential(\n",
    "            torch.nn.LayerNorm(d_model),\n",
    "            PositionalwiseFeedForward(\n",
    "                d_ffn=d_ffn,\n",
    "                input_size=d_model,\n",
    "                dropout=dropout,\n",
    "                activation=activation,\n",
    "            ),\n",
    "            torch.nn.Dropout(dropout),\n",
    "        )\n",
    "\n",
    "        # Feed forward block\n",
    "        self.ffn_module2 = torch.nn.Sequential(\n",
    "            torch.nn.LayerNorm(d_model),\n",
    "            PositionalwiseFeedForward(\n",
    "                d_ffn=d_ffn,\n",
    "                input_size=d_model,\n",
    "                dropout=dropout,\n",
    "                activation=activation,\n",
    "            ),\n",
    "            torch.nn.Dropout(dropout),\n",
    "        )\n",
    "\n",
    "        self.norm1 = LayerNorm(d_model)\n",
    "        self.norm2 = LayerNorm(d_model)\n",
    "        self.drop = torch.nn.Dropout(dropout)\n",
    "\n",
    "    def forward(\n",
    "        self,\n",
    "        x,\n",
    "        src_mask = None,\n",
    "        src_key_padding_mask = None,\n",
    "        pos_embs = None,\n",
    "    ):\n",
    "        conv_mask = None\n",
    "        if src_key_padding_mask is not None:\n",
    "            conv_mask = src_key_padding_mask.unsqueeze(-1)\n",
    "\n",
    "        # ffn module\n",
    "        x = x + 0.5 * self.ffn_module1(x)\n",
    "\n",
    "        # muti-head attention module\n",
    "        skip = x\n",
    "        x = self.norm1(x)\n",
    "        x, self_attn = self.mha_layer(\n",
    "            x,\n",
    "            x,\n",
    "            x,\n",
    "            attn_mask=src_mask,\n",
    "            key_padding_mask=src_key_padding_mask,\n",
    "            pos_embs=pos_embs,\n",
    "        )\n",
    "        x = x + skip\n",
    "\n",
    "        # convolution module\n",
    "        x = x + self.convolution_module(x)\n",
    "\n",
    "        # ffn module\n",
    "        x = self.norm2(x + 0.5 * self.ffn_module2(x))\n",
    "\n",
    "        return x, self_attn\n",
    "\n",
    "\n",
    "class CustomConformerEncoder(torch.nn.Module):\n",
    "    def __init__(\n",
    "        self,\n",
    "        num_layers,\n",
    "        d_model,\n",
    "        d_ffn,\n",
    "        nhead,\n",
    "        kernel_size=31,\n",
    "        kdim=None,\n",
    "        vdim=None,\n",
    "        activation=Swish,\n",
    "        bias=True,\n",
    "        dropout=0.0,\n",
    "        causal=False,\n",
    "        attention_type=\"RelPosMHAXL\",\n",
    "    ):\n",
    "        super().__init__()\n",
    "\n",
    "        # Create layers using our custom encoder layer that utilizes PowerConv\n",
    "        self.layers = torch.nn.ModuleList(\n",
    "            [\n",
    "                CustomConformerEncoderLayer(\n",
    "                    d_ffn=d_ffn,\n",
    "                    nhead=nhead,\n",
    "                    d_model=d_model,\n",
    "                    kdim=kdim,\n",
    "                    vdim=vdim,\n",
    "                    dropout=dropout,\n",
    "                    activation=activation,\n",
    "                    kernel_size=kernel_size,\n",
    "                    bias=bias,\n",
    "                    causal=causal,\n",
    "                    attention_type=attention_type,\n",
    "                )\n",
    "                for i in range(num_layers)\n",
    "            ]\n",
    "        )\n",
    "        self.norm = LayerNorm(d_model, eps=1e-6)\n",
    "        self.attention_type = attention_type\n",
    "\n",
    "    def forward(\n",
    "        self,\n",
    "        src,\n",
    "        src_mask = None,\n",
    "        src_key_padding_mask = None,\n",
    "        pos_embs = None,\n",
    "    ):\n",
    "\n",
    "        if self.attention_type == \"RelPosMHAXL\":\n",
    "            if pos_embs is None:\n",
    "                raise ValueError(\n",
    "                    \"The chosen attention type for the Conformer is RelPosMHAXL. For this attention type, the positional embeddings are mandatory\"\n",
    "                )\n",
    "\n",
    "        output = src\n",
    "        attention_lst = []\n",
    "        # Loop through the encoder layers\n",
    "        for enc_layer in self.layers:\n",
    "            output, attention = enc_layer(\n",
    "                output,\n",
    "                src_mask=src_mask,\n",
    "                src_key_padding_mask=src_key_padding_mask,\n",
    "                pos_embs=pos_embs,\n",
    "            )\n",
    "            attention_lst.append(attention)\n",
    "        output = self.norm(output)\n",
    "\n",
    "        return output, attention_lst"
   ]
  },
  {
   "cell_type": "code",
   "execution_count": 82,
   "metadata": {
    "id": "3wgsf3f27VuR"
   },
   "outputs": [],
   "source": [
    "class ASR_2B(ASR_2A):\n",
    "    def __init__(\n",
    "        self, device=\"cpu\", *args, **kwargs\n",
    "    ):\n",
    "        super().__init__(*args, **kwargs)\n",
    "\n",
    "        # Remove the old hooks as they are not useful\n",
    "        for hook in self.hooks:\n",
    "            hook.remove()\n",
    "\n",
    "        # Instantiate our custom encoder that uses PowerConv\n",
    "        encoder = CustomConformerEncoder(\n",
    "            nhead=self.hparams.nhead,\n",
    "            num_layers=self.hparams.num_encoder_layers,\n",
    "            d_ffn=self.hparams.d_ffn,\n",
    "            d_model=self.hparams.d_model,\n",
    "            dropout=self.hparams.transformer_dropout,\n",
    "            activation=self.hparams.activation,\n",
    "            attention_type=self.hparams.attention_type,\n",
    "        ).to(device)\n",
    "\n",
    "        # Replace the standard encoder with our encoder\n",
    "        self.modules.Transformer.encoder = encoder\n",
    "\n",
    "        def get_intermediate_output(module, input, output):\n",
    "            # TODO: Copy this code from your implemention in Part II(A)\n",
    "            self.inter_logits.append(output[0])\n",
    "\n",
    "\n",
    "        self.hooks = []\n",
    "        # TODO: Copy this code from your implemention in Part II(A) within the __init__ function of ASR_2A that populates self.hooks\n",
    "        for layer_idx in self.intermediate_layers:\n",
    "            layer = self.modules.Transformer.encoder.layers[layer_idx-1]\n",
    "            hook = layer.register_forward_hook(get_intermediate_output)\n",
    "            self.hooks.append(hook)\n"
   ]
  },
  {
   "cell_type": "code",
   "execution_count": 83,
   "metadata": {
    "colab": {
     "base_uri": "https://localhost:8080/"
    },
    "id": "s1pcomwa-zwj",
    "outputId": "1d88187d-5082-4306-c560-9c1498bf3698"
   },
   "outputs": [
    {
     "metadata": {
      "tags": null
     },
     "name": "stdout",
     "output_type": "stream",
     "text": [
      "speechbrain.core - Beginning experiment!\n",
      "speechbrain.core - Experiment folder: results/transformer/Task_2B\n",
      "speechbrain.pretrained.fetching - Fetch tokenizer.ckpt: Using existing file/symlink in model_checkpoints/tokenizer.ckpt.\n",
      "speechbrain.utils.parameter_transfer - Set local path in self.paths[tokenizer] = model_checkpoints/tokenizer.ckpt\n",
      "speechbrain.utils.parameter_transfer - Loading pretrained files for: tokenizer\n",
      "speechbrain.utils.parameter_transfer - Redirecting (loading from local path): model_checkpoints/tokenizer.ckpt -> model_checkpoints/tokenizer.ckpt\n",
      "speechbrain.core - Info: max_grad_norm arg from hparam file is used\n",
      "speechbrain.core - Info: ckpt_interval_minutes arg from hparam file is used\n",
      "speechbrain.core - 698.9k trainable parameters in ASR_2B\n",
      "speechbrain.utils.checkpoints - Would load a checkpoint here, but none found yet.\n",
      "speechbrain.utils.epoch_loop - Going into epoch 1\n"
     ]
    },
    {
     "metadata": {
      "tags": null
     },
     "name": "stderr",
     "output_type": "stream",
     "text": [
      "  0%|          | 0/190 [00:00<?, ?it/s]<ipython-input-54-7de10364dc0f>:55: UserWarning: To copy construct from a tensor, it is recommended to use sourceTensor.clone().detach() or sourceTensor.clone().detach().requires_grad_(True), rather than torch.tensor(sourceTensor).\n",
      "  interctc_logits = [self.modules.ctc_lin(torch.tensor(logits)) for logits in self.inter_logits]\n",
      "100%|██████████| 190/190 [00:24<00:00,  7.89it/s, train_loss=832]\n",
      "100%|██████████| 137/137 [00:07<00:00, 17.56it/s]"
     ]
    },
    {
     "metadata": {
      "tags": null
     },
     "name": "stdout",
     "output_type": "stream",
     "text": [
      "speechbrain.utils.train_logger - epoch: 1, lr: 1.26e-04, steps: 190, optimizer: Adam - train loss: 8.32e+02 - valid loss: 3.57e+02, valid CER: 1.00e+02, valid WER: 1.00e+02\n",
      "speechbrain.utils.checkpoints - Saved an end-of-epoch checkpoint in results/transformer/Task_2B/save/CKPT+2024-02-10+18-23-52+00\n",
      "speechbrain.utils.epoch_loop - Going into epoch 2\n"
     ]
    },
    {
     "metadata": {
      "tags": null
     },
     "name": "stderr",
     "output_type": "stream",
     "text": [
      "\n",
      "100%|██████████| 190/190 [00:25<00:00,  7.54it/s, train_loss=592]\n",
      "100%|██████████| 137/137 [00:08<00:00, 16.36it/s]"
     ]
    },
    {
     "metadata": {
      "tags": null
     },
     "name": "stdout",
     "output_type": "stream",
     "text": [
      "speechbrain.utils.train_logger - epoch: 2, lr: 2.53e-04, steps: 380, optimizer: Adam - train loss: 5.92e+02 - valid loss: 3.07e+02, valid CER: 1.00e+02, valid WER: 1.00e+02\n",
      "speechbrain.utils.checkpoints - Saved an end-of-epoch checkpoint in results/transformer/Task_2B/save/CKPT+2024-02-10+18-24-26+00\n"
     ]
    },
    {
     "metadata": {
      "tags": null
     },
     "name": "stderr",
     "output_type": "stream",
     "text": [
      "\n"
     ]
    },
    {
     "metadata": {
      "tags": null
     },
     "name": "stdout",
     "output_type": "stream",
     "text": [
      "speechbrain.utils.epoch_loop - Going into epoch 3\n"
     ]
    },
    {
     "metadata": {
      "tags": null
     },
     "name": "stderr",
     "output_type": "stream",
     "text": [
      "100%|██████████| 190/190 [00:24<00:00,  7.76it/s, train_loss=611]\n",
      "100%|██████████| 137/137 [00:08<00:00, 16.30it/s]"
     ]
    },
    {
     "metadata": {
      "tags": null
     },
     "name": "stdout",
     "output_type": "stream",
     "text": [
      "speechbrain.utils.train_logger - epoch: 3, lr: 3.79e-04, steps: 570, optimizer: Adam - train loss: 6.11e+02 - valid loss: 3.32e+02, valid CER: 1.00e+02, valid WER: 1.00e+02\n",
      "speechbrain.utils.checkpoints - Saved an end-of-epoch checkpoint in results/transformer/Task_2B/save/CKPT+2024-02-10+18-24-59+00\n"
     ]
    },
    {
     "metadata": {
      "tags": null
     },
     "name": "stderr",
     "output_type": "stream",
     "text": [
      "\n"
     ]
    },
    {
     "metadata": {
      "tags": null
     },
     "name": "stdout",
     "output_type": "stream",
     "text": [
      "speechbrain.utils.epoch_loop - Going into epoch 4\n"
     ]
    },
    {
     "metadata": {
      "tags": null
     },
     "name": "stderr",
     "output_type": "stream",
     "text": [
      "100%|██████████| 190/190 [00:24<00:00,  7.68it/s, train_loss=652]\n",
      "100%|██████████| 137/137 [00:08<00:00, 15.40it/s]"
     ]
    },
    {
     "metadata": {
      "tags": null
     },
     "name": "stdout",
     "output_type": "stream",
     "text": [
      "speechbrain.utils.train_logger - epoch: 4, lr: 5.06e-04, steps: 760, optimizer: Adam - train loss: 6.52e+02 - valid loss: 3.32e+02, valid CER: 93.12, valid WER: 96.21\n"
     ]
    },
    {
     "metadata": {
      "tags": null
     },
     "name": "stderr",
     "output_type": "stream",
     "text": [
      "\n"
     ]
    },
    {
     "metadata": {
      "tags": null
     },
     "name": "stdout",
     "output_type": "stream",
     "text": [
      "speechbrain.utils.checkpoints - Saved an end-of-epoch checkpoint in results/transformer/Task_2B/save/CKPT+2024-02-10+18-25-33+00\n",
      "speechbrain.utils.epoch_loop - Going into epoch 5\n"
     ]
    },
    {
     "metadata": {
      "tags": null
     },
     "name": "stderr",
     "output_type": "stream",
     "text": [
      "100%|██████████| 190/190 [00:24<00:00,  7.77it/s, train_loss=587]\n",
      "100%|██████████| 137/137 [00:11<00:00, 12.29it/s]"
     ]
    },
    {
     "metadata": {
      "tags": null
     },
     "name": "stdout",
     "output_type": "stream",
     "text": [
      "speechbrain.utils.train_logger - epoch: 5, lr: 6.33e-04, steps: 950, optimizer: Adam - train loss: 5.87e+02 - valid loss: 2.96e+02, valid CER: 77.51, valid WER: 94.16\n",
      "speechbrain.utils.checkpoints - Saved an end-of-epoch checkpoint in results/transformer/Task_2B/save/CKPT+2024-02-10+18-26-09+00\n"
     ]
    },
    {
     "metadata": {
      "tags": null
     },
     "name": "stderr",
     "output_type": "stream",
     "text": [
      "\n"
     ]
    },
    {
     "metadata": {
      "tags": null
     },
     "name": "stdout",
     "output_type": "stream",
     "text": [
      "speechbrain.utils.epoch_loop - Going into epoch 6\n"
     ]
    },
    {
     "metadata": {
      "tags": null
     },
     "name": "stderr",
     "output_type": "stream",
     "text": [
      "100%|██████████| 190/190 [00:24<00:00,  7.73it/s, train_loss=522]\n",
      "100%|██████████| 137/137 [00:11<00:00, 12.35it/s]"
     ]
    },
    {
     "metadata": {
      "tags": null
     },
     "name": "stdout",
     "output_type": "stream",
     "text": [
      "speechbrain.utils.train_logger - epoch: 6, lr: 7.59e-04, steps: 1140, optimizer: Adam - train loss: 5.22e+02 - valid loss: 2.66e+02, valid CER: 73.16, valid WER: 94.22\n",
      "speechbrain.utils.checkpoints - Saved an end-of-epoch checkpoint in results/transformer/Task_2B/save/CKPT+2024-02-10+18-26-45+00\n"
     ]
    },
    {
     "metadata": {
      "tags": null
     },
     "name": "stderr",
     "output_type": "stream",
     "text": [
      "\n"
     ]
    },
    {
     "metadata": {
      "tags": null
     },
     "name": "stdout",
     "output_type": "stream",
     "text": [
      "speechbrain.utils.epoch_loop - Going into epoch 7\n"
     ]
    },
    {
     "metadata": {
      "tags": null
     },
     "name": "stderr",
     "output_type": "stream",
     "text": [
      "100%|██████████| 190/190 [00:24<00:00,  7.66it/s, train_loss=473]\n",
      "100%|██████████| 137/137 [00:11<00:00, 12.12it/s]"
     ]
    },
    {
     "metadata": {
      "tags": null
     },
     "name": "stdout",
     "output_type": "stream",
     "text": [
      "speechbrain.utils.train_logger - epoch: 7, lr: 8.86e-04, steps: 1330, optimizer: Adam - train loss: 4.73e+02 - valid loss: 2.48e+02, valid CER: 71.02, valid WER: 93.77\n"
     ]
    },
    {
     "metadata": {
      "tags": null
     },
     "name": "stderr",
     "output_type": "stream",
     "text": [
      "\n"
     ]
    },
    {
     "metadata": {
      "tags": null
     },
     "name": "stdout",
     "output_type": "stream",
     "text": [
      "speechbrain.utils.checkpoints - Saved an end-of-epoch checkpoint in results/transformer/Task_2B/save/CKPT+2024-02-10+18-27-21+00\n",
      "speechbrain.utils.epoch_loop - Going into epoch 8\n"
     ]
    },
    {
     "metadata": {
      "tags": null
     },
     "name": "stderr",
     "output_type": "stream",
     "text": [
      "100%|██████████| 190/190 [00:24<00:00,  7.72it/s, train_loss=443]\n",
      "100%|██████████| 137/137 [00:11<00:00, 11.55it/s]"
     ]
    },
    {
     "metadata": {
      "tags": null
     },
     "name": "stdout",
     "output_type": "stream",
     "text": [
      "speechbrain.utils.train_logger - epoch: 8, lr: 9.94e-04, steps: 1520, optimizer: Adam - train loss: 4.43e+02 - valid loss: 2.33e+02, valid CER: 66.11, valid WER: 93.04\n",
      "speechbrain.utils.checkpoints - Saved an end-of-epoch checkpoint in results/transformer/Task_2B/save/CKPT+2024-02-10+18-27-58+00\n"
     ]
    },
    {
     "metadata": {
      "tags": null
     },
     "name": "stderr",
     "output_type": "stream",
     "text": [
      "\n"
     ]
    },
    {
     "metadata": {
      "tags": null
     },
     "name": "stdout",
     "output_type": "stream",
     "text": [
      "speechbrain.utils.epoch_loop - Going into epoch 9\n"
     ]
    },
    {
     "metadata": {
      "tags": null
     },
     "name": "stderr",
     "output_type": "stream",
     "text": [
      "100%|██████████| 190/190 [00:24<00:00,  7.63it/s, train_loss=418]\n",
      "100%|██████████| 137/137 [00:12<00:00, 10.93it/s]"
     ]
    },
    {
     "metadata": {
      "tags": null
     },
     "name": "stdout",
     "output_type": "stream",
     "text": [
      "speechbrain.utils.train_logger - epoch: 9, lr: 9.37e-04, steps: 1710, optimizer: Adam - train loss: 4.18e+02 - valid loss: 2.21e+02, valid CER: 60.52, valid WER: 91.19\n"
     ]
    },
    {
     "metadata": {
      "tags": null
     },
     "name": "stderr",
     "output_type": "stream",
     "text": [
      "\n"
     ]
    },
    {
     "metadata": {
      "tags": null
     },
     "name": "stdout",
     "output_type": "stream",
     "text": [
      "speechbrain.utils.checkpoints - Saved an end-of-epoch checkpoint in results/transformer/Task_2B/save/CKPT+2024-02-10+18-28-36+00\n",
      "speechbrain.utils.epoch_loop - Going into epoch 10\n"
     ]
    },
    {
     "metadata": {
      "tags": null
     },
     "name": "stderr",
     "output_type": "stream",
     "text": [
      "100%|██████████| 190/190 [00:24<00:00,  7.73it/s, train_loss=399]\n",
      "100%|██████████| 137/137 [00:13<00:00, 10.43it/s]"
     ]
    },
    {
     "metadata": {
      "tags": null
     },
     "name": "stdout",
     "output_type": "stream",
     "text": [
      "speechbrain.utils.train_logger - epoch: 10, lr: 8.89e-04, steps: 1900, optimizer: Adam - train loss: 3.99e+02 - valid loss: 2.13e+02, valid CER: 57.14, valid WER: 89.36\n",
      "speechbrain.utils.checkpoints - Saved an end-of-epoch checkpoint in results/transformer/Task_2B/save/CKPT+2024-02-10+18-29-14+00\n"
     ]
    },
    {
     "metadata": {
      "tags": null
     },
     "name": "stderr",
     "output_type": "stream",
     "text": [
      "\n"
     ]
    },
    {
     "metadata": {
      "tags": null
     },
     "name": "stdout",
     "output_type": "stream",
     "text": [
      "speechbrain.utils.epoch_loop - Going into epoch 11\n"
     ]
    },
    {
     "metadata": {
      "tags": null
     },
     "name": "stderr",
     "output_type": "stream",
     "text": [
      "100%|██████████| 190/190 [00:24<00:00,  7.72it/s, train_loss=383]\n",
      "100%|██████████| 137/137 [00:13<00:00, 10.36it/s]"
     ]
    },
    {
     "metadata": {
      "tags": null
     },
     "name": "stdout",
     "output_type": "stream",
     "text": [
      "speechbrain.utils.train_logger - epoch: 11, lr: 8.47e-04, steps: 2090, optimizer: Adam - train loss: 3.83e+02 - valid loss: 2.08e+02, valid CER: 55.50, valid WER: 88.31\n",
      "speechbrain.utils.checkpoints - Saved an end-of-epoch checkpoint in results/transformer/Task_2B/save/CKPT+2024-02-10+18-29-53+00\n"
     ]
    },
    {
     "metadata": {
      "tags": null
     },
     "name": "stderr",
     "output_type": "stream",
     "text": [
      "\n"
     ]
    },
    {
     "metadata": {
      "tags": null
     },
     "name": "stdout",
     "output_type": "stream",
     "text": [
      "speechbrain.utils.checkpoints - Deleted checkpoint in results/transformer/Task_2B/save/CKPT+2024-02-10+18-23-52+00\n",
      "speechbrain.utils.epoch_loop - Going into epoch 12\n"
     ]
    },
    {
     "metadata": {
      "tags": null
     },
     "name": "stderr",
     "output_type": "stream",
     "text": [
      "100%|██████████| 190/190 [00:25<00:00,  7.57it/s, train_loss=371]\n",
      "100%|██████████| 137/137 [00:13<00:00, 10.32it/s]"
     ]
    },
    {
     "metadata": {
      "tags": null
     },
     "name": "stdout",
     "output_type": "stream",
     "text": [
      "speechbrain.utils.train_logger - epoch: 12, lr: 8.11e-04, steps: 2280, optimizer: Adam - train loss: 3.71e+02 - valid loss: 2.02e+02, valid CER: 53.31, valid WER: 87.38\n",
      "speechbrain.utils.checkpoints - Saved an end-of-epoch checkpoint in results/transformer/Task_2B/save/CKPT+2024-02-10+18-30-32+00\n"
     ]
    },
    {
     "metadata": {
      "tags": null
     },
     "name": "stderr",
     "output_type": "stream",
     "text": [
      "\n"
     ]
    },
    {
     "metadata": {
      "tags": null
     },
     "name": "stdout",
     "output_type": "stream",
     "text": [
      "speechbrain.utils.checkpoints - Deleted checkpoint in results/transformer/Task_2B/save/CKPT+2024-02-10+18-24-26+00\n",
      "speechbrain.utils.epoch_loop - Going into epoch 13\n"
     ]
    },
    {
     "metadata": {
      "tags": null
     },
     "name": "stderr",
     "output_type": "stream",
     "text": [
      "100%|██████████| 190/190 [00:24<00:00,  7.74it/s, train_loss=360]\n",
      "100%|██████████| 137/137 [00:13<00:00,  9.92it/s]"
     ]
    },
    {
     "metadata": {
      "tags": null
     },
     "name": "stdout",
     "output_type": "stream",
     "text": [
      "speechbrain.utils.train_logger - epoch: 13, lr: 7.79e-04, steps: 2470, optimizer: Adam - train loss: 3.60e+02 - valid loss: 1.98e+02, valid CER: 51.78, valid WER: 86.45\n",
      "speechbrain.utils.checkpoints - Saved an end-of-epoch checkpoint in results/transformer/Task_2B/save/CKPT+2024-02-10+18-31-12+00\n"
     ]
    },
    {
     "metadata": {
      "tags": null
     },
     "name": "stderr",
     "output_type": "stream",
     "text": [
      "\n"
     ]
    },
    {
     "metadata": {
      "tags": null
     },
     "name": "stdout",
     "output_type": "stream",
     "text": [
      "speechbrain.utils.checkpoints - Deleted checkpoint in results/transformer/Task_2B/save/CKPT+2024-02-10+18-24-59+00\n",
      "speechbrain.utils.epoch_loop - Going into epoch 14\n"
     ]
    },
    {
     "metadata": {
      "tags": null
     },
     "name": "stderr",
     "output_type": "stream",
     "text": [
      "100%|██████████| 190/190 [00:24<00:00,  7.72it/s, train_loss=351]\n",
      "100%|██████████| 137/137 [00:13<00:00, 10.13it/s]"
     ]
    },
    {
     "metadata": {
      "tags": null
     },
     "name": "stdout",
     "output_type": "stream",
     "text": [
      "speechbrain.utils.train_logger - epoch: 14, lr: 7.51e-04, steps: 2660, optimizer: Adam - train loss: 3.51e+02 - valid loss: 1.95e+02, valid CER: 50.90, valid WER: 85.75\n",
      "speechbrain.utils.checkpoints - Saved an end-of-epoch checkpoint in results/transformer/Task_2B/save/CKPT+2024-02-10+18-31-50+00\n"
     ]
    },
    {
     "metadata": {
      "tags": null
     },
     "name": "stderr",
     "output_type": "stream",
     "text": [
      "\n"
     ]
    },
    {
     "metadata": {
      "tags": null
     },
     "name": "stdout",
     "output_type": "stream",
     "text": [
      "speechbrain.utils.checkpoints - Deleted checkpoint in results/transformer/Task_2B/save/CKPT+2024-02-10+18-25-33+00\n",
      "speechbrain.utils.epoch_loop - Going into epoch 15\n"
     ]
    },
    {
     "metadata": {
      "tags": null
     },
     "name": "stderr",
     "output_type": "stream",
     "text": [
      "100%|██████████| 190/190 [00:24<00:00,  7.64it/s, train_loss=343]\n",
      "100%|██████████| 137/137 [00:14<00:00,  9.51it/s]"
     ]
    },
    {
     "metadata": {
      "tags": null
     },
     "name": "stdout",
     "output_type": "stream",
     "text": [
      "speechbrain.utils.train_logger - epoch: 15, lr: 7.26e-04, steps: 2850, optimizer: Adam - train loss: 3.43e+02 - valid loss: 1.91e+02, valid CER: 49.26, valid WER: 85.48\n",
      "speechbrain.utils.checkpoints - Saved an end-of-epoch checkpoint in results/transformer/Task_2B/save/CKPT+2024-02-10+18-32-30+00\n"
     ]
    },
    {
     "metadata": {
      "tags": null
     },
     "name": "stderr",
     "output_type": "stream",
     "text": [
      "\n"
     ]
    },
    {
     "metadata": {
      "tags": null
     },
     "name": "stdout",
     "output_type": "stream",
     "text": [
      "speechbrain.utils.checkpoints - Deleted checkpoint in results/transformer/Task_2B/save/CKPT+2024-02-10+18-26-09+00\n",
      "speechbrain.utils.epoch_loop - Going into epoch 16\n"
     ]
    },
    {
     "metadata": {
      "tags": null
     },
     "name": "stderr",
     "output_type": "stream",
     "text": [
      "100%|██████████| 190/190 [00:24<00:00,  7.79it/s, train_loss=337]\n",
      "100%|██████████| 137/137 [00:13<00:00,  9.85it/s]"
     ]
    },
    {
     "metadata": {
      "tags": null
     },
     "name": "stdout",
     "output_type": "stream",
     "text": [
      "speechbrain.utils.train_logger - epoch: 16, lr: 7.03e-04, steps: 3040, optimizer: Adam - train loss: 3.37e+02 - valid loss: 1.89e+02, valid CER: 47.74, valid WER: 84.75\n"
     ]
    },
    {
     "metadata": {
      "tags": null
     },
     "name": "stderr",
     "output_type": "stream",
     "text": [
      "\n"
     ]
    },
    {
     "metadata": {
      "tags": null
     },
     "name": "stdout",
     "output_type": "stream",
     "text": [
      "speechbrain.utils.checkpoints - Saved an end-of-epoch checkpoint in results/transformer/Task_2B/save/CKPT+2024-02-10+18-33-09+00\n",
      "speechbrain.utils.checkpoints - Deleted checkpoint in results/transformer/Task_2B/save/CKPT+2024-02-10+18-26-45+00\n",
      "speechbrain.utils.epoch_loop - Going into epoch 17\n"
     ]
    },
    {
     "metadata": {
      "tags": null
     },
     "name": "stderr",
     "output_type": "stream",
     "text": [
      "100%|██████████| 190/190 [00:24<00:00,  7.71it/s, train_loss=330]\n",
      "100%|██████████| 137/137 [00:13<00:00,  9.96it/s]"
     ]
    },
    {
     "metadata": {
      "tags": null
     },
     "name": "stdout",
     "output_type": "stream",
     "text": [
      "speechbrain.utils.train_logger - epoch: 17, lr: 6.82e-04, steps: 3230, optimizer: Adam - train loss: 3.30e+02 - valid loss: 1.87e+02, valid CER: 47.24, valid WER: 84.18\n",
      "speechbrain.utils.checkpoints - Saved an end-of-epoch checkpoint in results/transformer/Task_2B/save/CKPT+2024-02-10+18-33-49+00\n"
     ]
    },
    {
     "metadata": {
      "tags": null
     },
     "name": "stderr",
     "output_type": "stream",
     "text": [
      "\n"
     ]
    },
    {
     "metadata": {
      "tags": null
     },
     "name": "stdout",
     "output_type": "stream",
     "text": [
      "speechbrain.utils.checkpoints - Deleted checkpoint in results/transformer/Task_2B/save/CKPT+2024-02-10+18-27-21+00\n",
      "speechbrain.utils.epoch_loop - Going into epoch 18\n"
     ]
    },
    {
     "metadata": {
      "tags": null
     },
     "name": "stderr",
     "output_type": "stream",
     "text": [
      "100%|██████████| 190/190 [00:25<00:00,  7.57it/s, train_loss=325]\n",
      "100%|██████████| 137/137 [00:15<00:00,  9.13it/s]"
     ]
    },
    {
     "metadata": {
      "tags": null
     },
     "name": "stdout",
     "output_type": "stream",
     "text": [
      "speechbrain.utils.train_logger - epoch: 18, lr: 6.62e-04, steps: 3420, optimizer: Adam - train loss: 3.25e+02 - valid loss: 1.85e+02, valid CER: 46.21, valid WER: 83.72\n",
      "speechbrain.utils.checkpoints - Saved an end-of-epoch checkpoint in results/transformer/Task_2B/save/CKPT+2024-02-10+18-34-30+00\n"
     ]
    },
    {
     "metadata": {
      "tags": null
     },
     "name": "stderr",
     "output_type": "stream",
     "text": [
      "\n"
     ]
    },
    {
     "metadata": {
      "tags": null
     },
     "name": "stdout",
     "output_type": "stream",
     "text": [
      "speechbrain.utils.checkpoints - Deleted checkpoint in results/transformer/Task_2B/save/CKPT+2024-02-10+18-27-58+00\n",
      "speechbrain.utils.epoch_loop - Going into epoch 19\n"
     ]
    },
    {
     "metadata": {
      "tags": null
     },
     "name": "stderr",
     "output_type": "stream",
     "text": [
      "100%|██████████| 190/190 [00:24<00:00,  7.76it/s, train_loss=319]\n",
      "100%|██████████| 137/137 [00:14<00:00,  9.70it/s]"
     ]
    },
    {
     "metadata": {
      "tags": null
     },
     "name": "stdout",
     "output_type": "stream",
     "text": [
      "speechbrain.utils.train_logger - epoch: 19, lr: 6.45e-04, steps: 3610, optimizer: Adam - train loss: 3.19e+02 - valid loss: 1.84e+02, valid CER: 45.35, valid WER: 83.07\n"
     ]
    },
    {
     "metadata": {
      "tags": null
     },
     "name": "stderr",
     "output_type": "stream",
     "text": [
      "\n"
     ]
    },
    {
     "metadata": {
      "tags": null
     },
     "name": "stdout",
     "output_type": "stream",
     "text": [
      "speechbrain.utils.checkpoints - Saved an end-of-epoch checkpoint in results/transformer/Task_2B/save/CKPT+2024-02-10+18-35-09+00\n",
      "speechbrain.utils.checkpoints - Deleted checkpoint in results/transformer/Task_2B/save/CKPT+2024-02-10+18-28-36+00\n",
      "speechbrain.utils.epoch_loop - Going into epoch 20\n"
     ]
    },
    {
     "metadata": {
      "tags": null
     },
     "name": "stderr",
     "output_type": "stream",
     "text": [
      "100%|██████████| 190/190 [00:24<00:00,  7.77it/s, train_loss=315]\n",
      "100%|██████████| 137/137 [00:13<00:00,  9.95it/s]"
     ]
    },
    {
     "metadata": {
      "tags": null
     },
     "name": "stdout",
     "output_type": "stream",
     "text": [
      "speechbrain.utils.train_logger - epoch: 20, lr: 6.28e-04, steps: 3800, optimizer: Adam - train loss: 3.15e+02 - valid loss: 1.82e+02, valid CER: 44.75, valid WER: 82.60\n",
      "speechbrain.utils.checkpoints - Saved an end-of-epoch checkpoint in results/transformer/Task_2B/save/CKPT+2024-02-10+18-35-48+00\n"
     ]
    },
    {
     "metadata": {
      "tags": null
     },
     "name": "stderr",
     "output_type": "stream",
     "text": [
      "\n"
     ]
    },
    {
     "metadata": {
      "tags": null
     },
     "name": "stdout",
     "output_type": "stream",
     "text": [
      "speechbrain.utils.checkpoints - Deleted checkpoint in results/transformer/Task_2B/save/CKPT+2024-02-10+18-29-14+00\n",
      "speechbrain.utils.epoch_loop - Going into epoch 21\n"
     ]
    },
    {
     "metadata": {
      "tags": null
     },
     "name": "stderr",
     "output_type": "stream",
     "text": [
      "100%|██████████| 190/190 [00:24<00:00,  7.63it/s, train_loss=311]\n",
      "100%|██████████| 137/137 [00:14<00:00,  9.70it/s]"
     ]
    },
    {
     "metadata": {
      "tags": null
     },
     "name": "stdout",
     "output_type": "stream",
     "text": [
      "speechbrain.utils.train_logger - epoch: 21, lr: 6.13e-04, steps: 3990, optimizer: Adam - train loss: 3.11e+02 - valid loss: 1.82e+02, valid CER: 44.71, valid WER: 82.47\n",
      "speechbrain.utils.checkpoints - Saved an end-of-epoch checkpoint in results/transformer/Task_2B/save/CKPT+2024-02-10+18-36-28+00\n"
     ]
    },
    {
     "metadata": {
      "tags": null
     },
     "name": "stderr",
     "output_type": "stream",
     "text": [
      "\n"
     ]
    },
    {
     "metadata": {
      "tags": null
     },
     "name": "stdout",
     "output_type": "stream",
     "text": [
      "speechbrain.utils.checkpoints - Deleted checkpoint in results/transformer/Task_2B/save/CKPT+2024-02-10+18-29-53+00\n",
      "speechbrain.utils.epoch_loop - Going into epoch 22\n"
     ]
    },
    {
     "metadata": {
      "tags": null
     },
     "name": "stderr",
     "output_type": "stream",
     "text": [
      "100%|██████████| 190/190 [00:24<00:00,  7.72it/s, train_loss=307]\n",
      "100%|██████████| 137/137 [00:14<00:00,  9.67it/s]"
     ]
    },
    {
     "metadata": {
      "tags": null
     },
     "name": "stdout",
     "output_type": "stream",
     "text": [
      "speechbrain.utils.train_logger - epoch: 22, lr: 5.99e-04, steps: 4180, optimizer: Adam - train loss: 3.07e+02 - valid loss: 1.80e+02, valid CER: 43.70, valid WER: 81.89\n"
     ]
    },
    {
     "metadata": {
      "tags": null
     },
     "name": "stderr",
     "output_type": "stream",
     "text": [
      "\n"
     ]
    },
    {
     "metadata": {
      "tags": null
     },
     "name": "stdout",
     "output_type": "stream",
     "text": [
      "speechbrain.utils.checkpoints - Saved an end-of-epoch checkpoint in results/transformer/Task_2B/save/CKPT+2024-02-10+18-37-08+00\n",
      "speechbrain.utils.checkpoints - Deleted checkpoint in results/transformer/Task_2B/save/CKPT+2024-02-10+18-30-32+00\n",
      "speechbrain.utils.epoch_loop - Going into epoch 23\n"
     ]
    },
    {
     "metadata": {
      "tags": null
     },
     "name": "stderr",
     "output_type": "stream",
     "text": [
      "100%|██████████| 190/190 [00:24<00:00,  7.73it/s, train_loss=304]\n",
      "100%|██████████| 137/137 [00:13<00:00,  9.80it/s]"
     ]
    },
    {
     "metadata": {
      "tags": null
     },
     "name": "stdout",
     "output_type": "stream",
     "text": [
      "speechbrain.utils.train_logger - epoch: 23, lr: 5.86e-04, steps: 4370, optimizer: Adam - train loss: 3.04e+02 - valid loss: 1.80e+02, valid CER: 43.82, valid WER: 81.63\n"
     ]
    },
    {
     "metadata": {
      "tags": null
     },
     "name": "stderr",
     "output_type": "stream",
     "text": [
      "\n"
     ]
    },
    {
     "metadata": {
      "tags": null
     },
     "name": "stdout",
     "output_type": "stream",
     "text": [
      "speechbrain.utils.checkpoints - Saved an end-of-epoch checkpoint in results/transformer/Task_2B/save/CKPT+2024-02-10+18-37-48+00\n",
      "speechbrain.utils.checkpoints - Deleted checkpoint in results/transformer/Task_2B/save/CKPT+2024-02-10+18-31-12+00\n",
      "speechbrain.utils.epoch_loop - Going into epoch 24\n"
     ]
    },
    {
     "metadata": {
      "tags": null
     },
     "name": "stderr",
     "output_type": "stream",
     "text": [
      "100%|██████████| 190/190 [00:24<00:00,  7.64it/s, train_loss=300]\n",
      "100%|██████████| 137/137 [00:14<00:00,  9.59it/s]"
     ]
    },
    {
     "metadata": {
      "tags": null
     },
     "name": "stdout",
     "output_type": "stream",
     "text": [
      "speechbrain.utils.train_logger - epoch: 24, lr: 5.74e-04, steps: 4560, optimizer: Adam - train loss: 3.00e+02 - valid loss: 1.80e+02, valid CER: 43.03, valid WER: 81.28\n",
      "speechbrain.utils.checkpoints - Saved an end-of-epoch checkpoint in results/transformer/Task_2B/save/CKPT+2024-02-10+18-38-28+00\n"
     ]
    },
    {
     "metadata": {
      "tags": null
     },
     "name": "stderr",
     "output_type": "stream",
     "text": [
      "\n"
     ]
    },
    {
     "metadata": {
      "tags": null
     },
     "name": "stdout",
     "output_type": "stream",
     "text": [
      "speechbrain.utils.checkpoints - Deleted checkpoint in results/transformer/Task_2B/save/CKPT+2024-02-10+18-31-50+00\n",
      "speechbrain.utils.epoch_loop - Going into epoch 25\n"
     ]
    },
    {
     "metadata": {
      "tags": null
     },
     "name": "stderr",
     "output_type": "stream",
     "text": [
      "100%|██████████| 190/190 [00:24<00:00,  7.74it/s, train_loss=297]\n",
      "100%|██████████| 137/137 [00:14<00:00,  9.57it/s]"
     ]
    },
    {
     "metadata": {
      "tags": null
     },
     "name": "stdout",
     "output_type": "stream",
     "text": [
      "speechbrain.utils.train_logger - epoch: 25, lr: 5.62e-04, steps: 4750, optimizer: Adam - train loss: 2.97e+02 - valid loss: 1.79e+02, valid CER: 42.42, valid WER: 81.42\n"
     ]
    },
    {
     "metadata": {
      "tags": null
     },
     "name": "stderr",
     "output_type": "stream",
     "text": [
      "\n"
     ]
    },
    {
     "metadata": {
      "tags": null
     },
     "name": "stdout",
     "output_type": "stream",
     "text": [
      "speechbrain.utils.checkpoints - Saved an end-of-epoch checkpoint in results/transformer/Task_2B/save/CKPT+2024-02-10+18-39-08+00\n",
      "speechbrain.utils.checkpoints - Deleted checkpoint in results/transformer/Task_2B/save/CKPT+2024-02-10+18-32-30+00\n",
      "speechbrain.utils.epoch_loop - Going into epoch 26\n"
     ]
    },
    {
     "metadata": {
      "tags": null
     },
     "name": "stderr",
     "output_type": "stream",
     "text": [
      "100%|██████████| 190/190 [00:24<00:00,  7.77it/s, train_loss=294]\n",
      "100%|██████████| 137/137 [00:14<00:00,  9.58it/s]"
     ]
    },
    {
     "metadata": {
      "tags": null
     },
     "name": "stdout",
     "output_type": "stream",
     "text": [
      "speechbrain.utils.train_logger - epoch: 26, lr: 5.51e-04, steps: 4940, optimizer: Adam - train loss: 2.94e+02 - valid loss: 1.78e+02, valid CER: 42.31, valid WER: 80.79\n"
     ]
    },
    {
     "metadata": {
      "tags": null
     },
     "name": "stderr",
     "output_type": "stream",
     "text": [
      "\n"
     ]
    },
    {
     "metadata": {
      "tags": null
     },
     "name": "stdout",
     "output_type": "stream",
     "text": [
      "speechbrain.utils.checkpoints - Saved an end-of-epoch checkpoint in results/transformer/Task_2B/save/CKPT+2024-02-10+18-39-48+00\n",
      "speechbrain.utils.checkpoints - Deleted checkpoint in results/transformer/Task_2B/save/CKPT+2024-02-10+18-33-09+00\n",
      "speechbrain.utils.epoch_loop - Going into epoch 27\n"
     ]
    },
    {
     "metadata": {
      "tags": null
     },
     "name": "stderr",
     "output_type": "stream",
     "text": [
      "100%|██████████| 190/190 [00:24<00:00,  7.71it/s, train_loss=292]\n",
      "100%|██████████| 137/137 [00:14<00:00,  9.55it/s]"
     ]
    },
    {
     "metadata": {
      "tags": null
     },
     "name": "stdout",
     "output_type": "stream",
     "text": [
      "speechbrain.utils.train_logger - epoch: 27, lr: 5.41e-04, steps: 5130, optimizer: Adam - train loss: 2.92e+02 - valid loss: 1.78e+02, valid CER: 41.58, valid WER: 80.46\n"
     ]
    },
    {
     "metadata": {
      "tags": null
     },
     "name": "stderr",
     "output_type": "stream",
     "text": [
      "\n"
     ]
    },
    {
     "metadata": {
      "tags": null
     },
     "name": "stdout",
     "output_type": "stream",
     "text": [
      "speechbrain.utils.checkpoints - Saved an end-of-epoch checkpoint in results/transformer/Task_2B/save/CKPT+2024-02-10+18-40-28+00\n",
      "speechbrain.utils.checkpoints - Deleted checkpoint in results/transformer/Task_2B/save/CKPT+2024-02-10+18-33-49+00\n",
      "speechbrain.utils.epoch_loop - Going into epoch 28\n"
     ]
    },
    {
     "name": "stderr",
     "output_type": "stream",
     "text": [
      "100%|██████████| 190/190 [00:24<00:00,  7.74it/s, train_loss=289]\n",
      "100%|██████████| 137/137 [00:14<00:00,  9.54it/s]"
     ]
    },
    {
     "name": "stdout",
     "output_type": "stream",
     "text": [
      "speechbrain.utils.train_logger - epoch: 28, lr: 5.31e-04, steps: 5320, optimizer: Adam - train loss: 2.89e+02 - valid loss: 1.77e+02, valid CER: 41.44, valid WER: 80.50\n"
     ]
    },
    {
     "name": "stderr",
     "output_type": "stream",
     "text": [
      "\n"
     ]
    },
    {
     "name": "stdout",
     "output_type": "stream",
     "text": [
      "speechbrain.utils.checkpoints - Saved an end-of-epoch checkpoint in results/transformer/Task_2B/save/CKPT+2024-02-10+18-41-08+00\n",
      "speechbrain.utils.checkpoints - Deleted checkpoint in results/transformer/Task_2B/save/CKPT+2024-02-10+18-34-30+00\n",
      "speechbrain.utils.epoch_loop - Going into epoch 29\n"
     ]
    },
    {
     "name": "stderr",
     "output_type": "stream",
     "text": [
      "100%|██████████| 190/190 [00:24<00:00,  7.72it/s, train_loss=286]\n",
      "100%|██████████| 137/137 [00:14<00:00,  9.67it/s]"
     ]
    },
    {
     "name": "stdout",
     "output_type": "stream",
     "text": [
      "speechbrain.utils.train_logger - epoch: 29, lr: 5.22e-04, steps: 5510, optimizer: Adam - train loss: 2.86e+02 - valid loss: 1.76e+02, valid CER: 41.10, valid WER: 80.15\n"
     ]
    },
    {
     "name": "stderr",
     "output_type": "stream",
     "text": [
      "\n"
     ]
    },
    {
     "name": "stdout",
     "output_type": "stream",
     "text": [
      "speechbrain.utils.checkpoints - Saved an end-of-epoch checkpoint in results/transformer/Task_2B/save/CKPT+2024-02-10+18-41-48+00\n",
      "speechbrain.utils.checkpoints - Deleted checkpoint in results/transformer/Task_2B/save/CKPT+2024-02-10+18-35-09+00\n",
      "speechbrain.utils.epoch_loop - Going into epoch 30\n"
     ]
    },
    {
     "name": "stderr",
     "output_type": "stream",
     "text": [
      "100%|██████████| 190/190 [00:25<00:00,  7.50it/s, train_loss=284]\n",
      "100%|██████████| 137/137 [00:14<00:00,  9.25it/s]"
     ]
    },
    {
     "name": "stdout",
     "output_type": "stream",
     "text": [
      "speechbrain.utils.train_logger - epoch: 30, lr: 5.13e-04, steps: 5700, optimizer: Adam - train loss: 2.84e+02 - valid loss: 1.76e+02, valid CER: 40.95, valid WER: 79.97\n",
      "speechbrain.utils.checkpoints - Saved an end-of-epoch checkpoint in results/transformer/Task_2B/save/CKPT+2024-02-10+18-42-29+00\n"
     ]
    },
    {
     "name": "stderr",
     "output_type": "stream",
     "text": [
      "\n"
     ]
    },
    {
     "name": "stdout",
     "output_type": "stream",
     "text": [
      "speechbrain.utils.checkpoints - Deleted checkpoint in results/transformer/Task_2B/save/CKPT+2024-02-10+18-35-48+00\n",
      "speechbrain.utils.checkpoints - Would load a checkpoint here, but none found yet.\n"
     ]
    },
    {
     "name": "stderr",
     "output_type": "stream",
     "text": [
      "100%|██████████| 328/328 [00:41<00:00,  7.97it/s]\n"
     ]
    },
    {
     "name": "stdout",
     "output_type": "stream",
     "text": [
      "speechbrain.utils.train_logger - Epoch loaded: 30 - test loss: 89.15, test CER: 41.89, test WER: 80.95\n"
     ]
    },
    {
     "data": {
      "text/plain": [
       "89.15423796235059"
      ]
     },
     "execution_count": 83,
     "metadata": {},
     "output_type": "execute_result"
    }
   ],
   "source": [
    "hyperparams = global_hyperparams + task_hyperparameters\n",
    "hparams = load_hyperpyyaml(hyperparams)\n",
    "\n",
    "# Create experiment directory\n",
    "sb.create_experiment_directory(\n",
    "    experiment_directory=hparams[\"output_folder\"],\n",
    "    overrides=None,\n",
    ")\n",
    "\n",
    "# We download the pretrained LM from HuggingFace (or elsewhere depending on\n",
    "# the path given in the YAML file). The tokenizer is loaded at the same time.\n",
    "run_on_main(hparams[\"pretrainer\"].collect_files)\n",
    "hparams[\"pretrainer\"].load_collected(device=run_opts[\"device\"])\n",
    "\n",
    "# Trainer initialization\n",
    "asr_brain = ASR_2B(\n",
    "    modules=hparams[\"modules\"],\n",
    "    opt_class=hparams[\"Adam\"],\n",
    "    hparams=hparams,\n",
    "    checkpointer=hparams[\"checkpointer\"],\n",
    "    run_opts=run_opts,\n",
    "    tokenizer=tokenizer,\n",
    "    device=device\n",
    ")\n",
    "\n",
    "# adding objects to trainer:\n",
    "train_dataloader_opts = hparams[\"train_dataloader_opts\"]\n",
    "valid_dataloader_opts = hparams[\"valid_dataloader_opts\"]\n",
    "\n",
    "# Training\n",
    "asr_brain.fit(\n",
    "    asr_brain.hparams.epoch_counter,\n",
    "    train_data,\n",
    "    valid_data,\n",
    "    train_loader_kwargs=train_dataloader_opts,\n",
    "    valid_loader_kwargs=valid_dataloader_opts\n",
    ")\n",
    "\n",
    "# Testing\n",
    "\n",
    "asr_brain.hparams.test_wer_file = asr_brain.hparams.wer_file\n",
    "asr_brain.evaluate(\n",
    "    test_data,\n",
    "    max_key=\"ACC\",\n",
    "    test_loader_kwargs=hparams[\"test_dataloader_opts\"],\n",
    ")"
   ]
  },
  {
   "cell_type": "code",
   "execution_count": null,
   "metadata": {
    "id": "I4NvWLD6PCFc"
   },
   "outputs": [],
   "source": []
  }
 ],
 "metadata": {
  "accelerator": "GPU",
  "colab": {
   "gpuType": "T4",
   "provenance": []
  },
  "kernelspec": {
   "display_name": "Python 3 (ipykernel)",
   "language": "python",
   "name": "python3"
  },
  "language_info": {
   "codemirror_mode": {
    "name": "ipython",
    "version": 3
   },
   "file_extension": ".py",
   "mimetype": "text/x-python",
   "name": "python",
   "nbconvert_exporter": "python",
   "pygments_lexer": "ipython3",
   "version": "3.10.12"
  }
 },
 "nbformat": 4,
 "nbformat_minor": 1
}
